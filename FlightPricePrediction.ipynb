{
 "cells": [
  {
   "cell_type": "markdown",
   "metadata": {},
   "source": [
    "# Flight Price Prediction Project"
   ]
  },
  {
   "cell_type": "markdown",
   "metadata": {},
   "source": [
    " Anyone who has booked a flight ticket knows how unexpectedly the prices vary. The cheapest available ticket on a given flight gets more and less expensive over time. In this project we have first scraped data from \"yatra.com\" using Selenium and then build a regression model predicting prices."
   ]
  },
  {
   "cell_type": "markdown",
   "metadata": {},
   "source": [
    "### Importing Libraries"
   ]
  },
  {
   "cell_type": "code",
   "execution_count": 1,
   "metadata": {},
   "outputs": [],
   "source": [
    "import pandas as pd\n",
    "import numpy as np\n",
    "import matplotlib.pyplot as plt\n",
    "import seaborn as sns\n",
    "from scipy import stats\n",
    "from sklearn.preprocessing import StandardScaler, LabelEncoder\n",
    "from sklearn.impute import KNNImputer\n",
    "from sklearn.linear_model import LogisticRegression, LinearRegression, Ridge, Lasso, RidgeCV, LassoCV\n",
    "from sklearn.neighbors import KNeighborsClassifier, KNeighborsRegressor\n",
    "from sklearn.model_selection import train_test_split, GridSearchCV\n",
    "from sklearn.metrics import accuracy_score,confusion_matrix, classification_report, roc_curve, roc_auc_score\n",
    "from sklearn.metrics import r2_score,mean_absolute_error, mean_squared_error\n",
    "from sklearn.model_selection import KFold, cross_val_score\n",
    "from sklearn.ensemble import RandomForestRegressor, GradientBoostingRegressor\n",
    "from sklearn.svm import SVC, SVR\n",
    "from sklearn.tree import DecisionTreeClassifier, DecisionTreeRegressor\n",
    "from sklearn.utils import resample\n",
    "import pickle\n",
    "\n",
    "import warnings\n",
    "warnings.filterwarnings('ignore')"
   ]
  },
  {
   "cell_type": "markdown",
   "metadata": {},
   "source": [
    "### Loading Dataset"
   ]
  },
  {
   "cell_type": "code",
   "execution_count": 2,
   "metadata": {},
   "outputs": [
    {
     "data": {
      "text/html": [
       "<div>\n",
       "<style scoped>\n",
       "    .dataframe tbody tr th:only-of-type {\n",
       "        vertical-align: middle;\n",
       "    }\n",
       "\n",
       "    .dataframe tbody tr th {\n",
       "        vertical-align: top;\n",
       "    }\n",
       "\n",
       "    .dataframe thead th {\n",
       "        text-align: right;\n",
       "    }\n",
       "</style>\n",
       "<table border=\"1\" class=\"dataframe\">\n",
       "  <thead>\n",
       "    <tr style=\"text-align: right;\">\n",
       "      <th></th>\n",
       "      <th>Unnamed: 0</th>\n",
       "      <th>Name</th>\n",
       "      <th>Date</th>\n",
       "      <th>Departure</th>\n",
       "      <th>Arrival</th>\n",
       "      <th>Source</th>\n",
       "      <th>Destination</th>\n",
       "      <th>Stops</th>\n",
       "      <th>Duration</th>\n",
       "      <th>Price</th>\n",
       "    </tr>\n",
       "  </thead>\n",
       "  <tbody>\n",
       "    <tr>\n",
       "      <th>0</th>\n",
       "      <td>0</td>\n",
       "      <td>IndiGo</td>\n",
       "      <td>24-Jan</td>\n",
       "      <td>22:40</td>\n",
       "      <td>01:30 + 1 day</td>\n",
       "      <td>New Delhi</td>\n",
       "      <td>Chennai</td>\n",
       "      <td>Non Stop</td>\n",
       "      <td>2h 50m</td>\n",
       "      <td>2,341</td>\n",
       "    </tr>\n",
       "    <tr>\n",
       "      <th>1</th>\n",
       "      <td>1</td>\n",
       "      <td>IndiGo</td>\n",
       "      <td>24-Jan</td>\n",
       "      <td>3:00</td>\n",
       "      <td>5:55</td>\n",
       "      <td>New Delhi</td>\n",
       "      <td>Chennai</td>\n",
       "      <td>Non Stop</td>\n",
       "      <td>2h 55m</td>\n",
       "      <td>2,341</td>\n",
       "    </tr>\n",
       "    <tr>\n",
       "      <th>2</th>\n",
       "      <td>2</td>\n",
       "      <td>IndiGo</td>\n",
       "      <td>24-Jan</td>\n",
       "      <td>8:35</td>\n",
       "      <td>11:30</td>\n",
       "      <td>New Delhi</td>\n",
       "      <td>Chennai</td>\n",
       "      <td>Non Stop</td>\n",
       "      <td>2h 55m</td>\n",
       "      <td>2,341</td>\n",
       "    </tr>\n",
       "    <tr>\n",
       "      <th>3</th>\n",
       "      <td>3</td>\n",
       "      <td>IndiGo</td>\n",
       "      <td>24-Jan</td>\n",
       "      <td>20:15</td>\n",
       "      <td>23:10</td>\n",
       "      <td>New Delhi</td>\n",
       "      <td>Chennai</td>\n",
       "      <td>Non Stop</td>\n",
       "      <td>2h 55m</td>\n",
       "      <td>2,341</td>\n",
       "    </tr>\n",
       "    <tr>\n",
       "      <th>4</th>\n",
       "      <td>4</td>\n",
       "      <td>IndiGo</td>\n",
       "      <td>24-Jan</td>\n",
       "      <td>9:50</td>\n",
       "      <td>12:50</td>\n",
       "      <td>New Delhi</td>\n",
       "      <td>Chennai</td>\n",
       "      <td>Non Stop</td>\n",
       "      <td>3h 00m</td>\n",
       "      <td>2,341</td>\n",
       "    </tr>\n",
       "  </tbody>\n",
       "</table>\n",
       "</div>"
      ],
      "text/plain": [
       "   Unnamed: 0    Name    Date Departure        Arrival     Source Destination  \\\n",
       "0           0  IndiGo  24-Jan     22:40  01:30 + 1 day  New Delhi     Chennai   \n",
       "1           1  IndiGo  24-Jan      3:00           5:55  New Delhi     Chennai   \n",
       "2           2  IndiGo  24-Jan      8:35          11:30  New Delhi     Chennai   \n",
       "3           3  IndiGo  24-Jan     20:15          23:10  New Delhi     Chennai   \n",
       "4           4  IndiGo  24-Jan      9:50          12:50  New Delhi     Chennai   \n",
       "\n",
       "      Stops Duration  Price  \n",
       "0  Non Stop   2h 50m  2,341  \n",
       "1  Non Stop   2h 55m  2,341  \n",
       "2  Non Stop   2h 55m  2,341  \n",
       "3  Non Stop   2h 55m  2,341  \n",
       "4  Non Stop   3h 00m  2,341  "
      ]
     },
     "execution_count": 2,
     "metadata": {},
     "output_type": "execute_result"
    }
   ],
   "source": [
    "df=pd.read_csv(r\"FlightData.csv\", parse_dates=[\"Date\"])\n",
    "df.head()"
   ]
  },
  {
   "cell_type": "code",
   "execution_count": 3,
   "metadata": {},
   "outputs": [
    {
     "data": {
      "text/plain": [
       "Index(['Unnamed: 0', 'Name', 'Date', 'Departure', 'Arrival', 'Source',\n",
       "       'Destination', 'Stops', 'Duration', 'Price'],\n",
       "      dtype='object')"
      ]
     },
     "execution_count": 3,
     "metadata": {},
     "output_type": "execute_result"
    }
   ],
   "source": [
    "df.columns"
   ]
  },
  {
   "cell_type": "markdown",
   "metadata": {},
   "source": [
    "#### Features:\n",
    "\n",
    "Name: name of Airline\n",
    "\n",
    "Date: date of journey\n",
    "\n",
    "Departure: time of departure\n",
    "\n",
    "Arrival: time of arrival\n",
    "\n",
    "Source: the source from which service begins\n",
    "\n",
    "Destination: the destination where service ends\n",
    "\n",
    "Stops: total number of stops between source and destination\n",
    "\n",
    "Duration: total duration of flight\n",
    "\n",
    "Price: Price of flight ticket"
   ]
  },
  {
   "cell_type": "code",
   "execution_count": 4,
   "metadata": {
    "scrolled": true
   },
   "outputs": [
    {
     "data": {
      "text/plain": [
       "Unnamed: 0     0\n",
       "Name           0\n",
       "Date           0\n",
       "Departure      0\n",
       "Arrival        0\n",
       "Source         0\n",
       "Destination    0\n",
       "Stops          0\n",
       "Duration       0\n",
       "Price          0\n",
       "dtype: int64"
      ]
     },
     "execution_count": 4,
     "metadata": {},
     "output_type": "execute_result"
    }
   ],
   "source": [
    "df.isnull().sum()"
   ]
  },
  {
   "cell_type": "markdown",
   "metadata": {},
   "source": [
    "The dataset has no null values."
   ]
  },
  {
   "cell_type": "code",
   "execution_count": 5,
   "metadata": {},
   "outputs": [
    {
     "name": "stdout",
     "output_type": "stream",
     "text": [
      "<class 'pandas.core.frame.DataFrame'>\n",
      "RangeIndex: 1875 entries, 0 to 1874\n",
      "Data columns (total 10 columns):\n",
      " #   Column       Non-Null Count  Dtype \n",
      "---  ------       --------------  ----- \n",
      " 0   Unnamed: 0   1875 non-null   int64 \n",
      " 1   Name         1875 non-null   object\n",
      " 2   Date         1875 non-null   object\n",
      " 3   Departure    1875 non-null   object\n",
      " 4   Arrival      1875 non-null   object\n",
      " 5   Source       1875 non-null   object\n",
      " 6   Destination  1875 non-null   object\n",
      " 7   Stops        1875 non-null   object\n",
      " 8   Duration     1875 non-null   object\n",
      " 9   Price        1875 non-null   object\n",
      "dtypes: int64(1), object(9)\n",
      "memory usage: 146.6+ KB\n"
     ]
    }
   ],
   "source": [
    "df.info()"
   ]
  },
  {
   "cell_type": "code",
   "execution_count": 6,
   "metadata": {
    "scrolled": true
   },
   "outputs": [
    {
     "data": {
      "text/plain": [
       "(1875, 10)"
      ]
     },
     "execution_count": 6,
     "metadata": {},
     "output_type": "execute_result"
    }
   ],
   "source": [
    "df.shape"
   ]
  },
  {
   "cell_type": "markdown",
   "metadata": {},
   "source": [
    "Number of columns= 10\n",
    "\n",
    "Number of rows= 1875"
   ]
  },
  {
   "cell_type": "code",
   "execution_count": 7,
   "metadata": {},
   "outputs": [],
   "source": [
    "df.drop_duplicates(inplace=True)"
   ]
  },
  {
   "cell_type": "code",
   "execution_count": 8,
   "metadata": {},
   "outputs": [
    {
     "data": {
      "text/plain": [
       "(1875, 10)"
      ]
     },
     "execution_count": 8,
     "metadata": {},
     "output_type": "execute_result"
    }
   ],
   "source": [
    "df.shape"
   ]
  },
  {
   "cell_type": "markdown",
   "metadata": {},
   "source": [
    "There is no duplicate data"
   ]
  },
  {
   "cell_type": "code",
   "execution_count": 9,
   "metadata": {},
   "outputs": [
    {
     "data": {
      "text/plain": [
       "Unnamed: 0      int64\n",
       "Name           object\n",
       "Date           object\n",
       "Departure      object\n",
       "Arrival        object\n",
       "Source         object\n",
       "Destination    object\n",
       "Stops          object\n",
       "Duration       object\n",
       "Price           int32\n",
       "dtype: object"
      ]
     },
     "execution_count": 9,
     "metadata": {},
     "output_type": "execute_result"
    }
   ],
   "source": [
    "# Changing data type of price\n",
    "p=[]\n",
    "price=df[\"Price\"]\n",
    "for i in range(len(price)):\n",
    "    st=price[i]\n",
    "    p.append(st.replace(\",\",\"\"))\n",
    "df[\"Price\"]=p\n",
    "\n",
    "df_type_dict={'Price':int}\n",
    "df=df.astype(df_type_dict)\n",
    "df.dtypes"
   ]
  },
  {
   "cell_type": "markdown",
   "metadata": {},
   "source": [
    "## Exploratory Data Analysis"
   ]
  },
  {
   "cell_type": "markdown",
   "metadata": {},
   "source": [
    "### Univariate Analysis"
   ]
  },
  {
   "cell_type": "code",
   "execution_count": 10,
   "metadata": {
    "scrolled": true
   },
   "outputs": [
    {
     "data": {
      "text/plain": [
       "<matplotlib.axes._subplots.AxesSubplot at 0x26c8d83f5c0>"
      ]
     },
     "execution_count": 10,
     "metadata": {},
     "output_type": "execute_result"
    },
    {
     "data": {
      "image/png": "[encoded data removed]",
      "text/plain": [
       "<Figure size 432x288 with 1 Axes>"
      ]
     },
     "metadata": {
      "needs_background": "light"
     },
     "output_type": "display_data"
    }
   ],
   "source": [
    "sns.countplot(df[\"Name\"])"
   ]
  },
  {
   "cell_type": "code",
   "execution_count": 11,
   "metadata": {},
   "outputs": [
    {
     "data": {
      "text/plain": [
       "New Delhi    434\n",
       "Mumbai       333\n",
       "Bangalore    332\n",
       "Kolkata      255\n",
       "Pune         180\n",
       "Hyderabad    130\n",
       "Chennai      101\n",
       "Patna         60\n",
       "Jammu         50\n",
       "Name: Source, dtype: int64"
      ]
     },
     "execution_count": 11,
     "metadata": {},
     "output_type": "execute_result"
    }
   ],
   "source": [
    "df['Source'].value_counts()"
   ]
  },
  {
   "cell_type": "code",
   "execution_count": 12,
   "metadata": {},
   "outputs": [
    {
     "data": {
      "text/plain": [
       "New Delhi      665\n",
       "Mumbai         284\n",
       "Goa            205\n",
       "Bangalore      120\n",
       "Chennai        110\n",
       "Kolkata         90\n",
       "Lucknow         80\n",
       "Jammu           51\n",
       "Hyderabad       30\n",
       "Guwahati        20\n",
       "Pune            20\n",
       "Srinagar        20\n",
       "Indore          20\n",
       "Coimbatore      20\n",
       "Kochi           20\n",
       "Port Blair      20\n",
       "Dehradun        20\n",
       "Tirupati        10\n",
       "Ahmedabad       10\n",
       "Rajahmundry     10\n",
       "Trivandrum      10\n",
       "Imphal          10\n",
       "Vijayawada      10\n",
       "Varanasi        10\n",
       "Chandigarh      10\n",
       "Name: Destination, dtype: int64"
      ]
     },
     "execution_count": 12,
     "metadata": {},
     "output_type": "execute_result"
    }
   ],
   "source": [
    "df['Destination'].value_counts()"
   ]
  },
  {
   "cell_type": "code",
   "execution_count": 13,
   "metadata": {},
   "outputs": [
    {
     "data": {
      "text/html": [
       "<div>\n",
       "<style scoped>\n",
       "    .dataframe tbody tr th:only-of-type {\n",
       "        vertical-align: middle;\n",
       "    }\n",
       "\n",
       "    .dataframe tbody tr th {\n",
       "        vertical-align: top;\n",
       "    }\n",
       "\n",
       "    .dataframe thead th {\n",
       "        text-align: right;\n",
       "    }\n",
       "</style>\n",
       "<table border=\"1\" class=\"dataframe\">\n",
       "  <thead>\n",
       "    <tr style=\"text-align: right;\">\n",
       "      <th>Destination</th>\n",
       "      <th>Ahmedabad</th>\n",
       "      <th>Bangalore</th>\n",
       "      <th>Chandigarh</th>\n",
       "      <th>Chennai</th>\n",
       "      <th>Coimbatore</th>\n",
       "      <th>Dehradun</th>\n",
       "      <th>Goa</th>\n",
       "      <th>Guwahati</th>\n",
       "      <th>Hyderabad</th>\n",
       "      <th>Imphal</th>\n",
       "      <th>...</th>\n",
       "      <th>Mumbai</th>\n",
       "      <th>New Delhi</th>\n",
       "      <th>Port Blair</th>\n",
       "      <th>Pune</th>\n",
       "      <th>Rajahmundry</th>\n",
       "      <th>Srinagar</th>\n",
       "      <th>Tirupati</th>\n",
       "      <th>Trivandrum</th>\n",
       "      <th>Varanasi</th>\n",
       "      <th>Vijayawada</th>\n",
       "    </tr>\n",
       "    <tr>\n",
       "      <th>Source</th>\n",
       "      <th></th>\n",
       "      <th></th>\n",
       "      <th></th>\n",
       "      <th></th>\n",
       "      <th></th>\n",
       "      <th></th>\n",
       "      <th></th>\n",
       "      <th></th>\n",
       "      <th></th>\n",
       "      <th></th>\n",
       "      <th></th>\n",
       "      <th></th>\n",
       "      <th></th>\n",
       "      <th></th>\n",
       "      <th></th>\n",
       "      <th></th>\n",
       "      <th></th>\n",
       "      <th></th>\n",
       "      <th></th>\n",
       "      <th></th>\n",
       "      <th></th>\n",
       "    </tr>\n",
       "  </thead>\n",
       "  <tbody>\n",
       "    <tr>\n",
       "      <th>Bangalore</th>\n",
       "      <td>0</td>\n",
       "      <td>0</td>\n",
       "      <td>0</td>\n",
       "      <td>0</td>\n",
       "      <td>0</td>\n",
       "      <td>0</td>\n",
       "      <td>0</td>\n",
       "      <td>0</td>\n",
       "      <td>0</td>\n",
       "      <td>0</td>\n",
       "      <td>...</td>\n",
       "      <td>0</td>\n",
       "      <td>332</td>\n",
       "      <td>0</td>\n",
       "      <td>0</td>\n",
       "      <td>0</td>\n",
       "      <td>0</td>\n",
       "      <td>0</td>\n",
       "      <td>0</td>\n",
       "      <td>0</td>\n",
       "      <td>0</td>\n",
       "    </tr>\n",
       "    <tr>\n",
       "      <th>Chennai</th>\n",
       "      <td>0</td>\n",
       "      <td>0</td>\n",
       "      <td>0</td>\n",
       "      <td>0</td>\n",
       "      <td>0</td>\n",
       "      <td>0</td>\n",
       "      <td>0</td>\n",
       "      <td>0</td>\n",
       "      <td>0</td>\n",
       "      <td>0</td>\n",
       "      <td>...</td>\n",
       "      <td>0</td>\n",
       "      <td>60</td>\n",
       "      <td>0</td>\n",
       "      <td>0</td>\n",
       "      <td>0</td>\n",
       "      <td>0</td>\n",
       "      <td>0</td>\n",
       "      <td>0</td>\n",
       "      <td>0</td>\n",
       "      <td>0</td>\n",
       "    </tr>\n",
       "    <tr>\n",
       "      <th>Hyderabad</th>\n",
       "      <td>10</td>\n",
       "      <td>20</td>\n",
       "      <td>0</td>\n",
       "      <td>20</td>\n",
       "      <td>0</td>\n",
       "      <td>10</td>\n",
       "      <td>10</td>\n",
       "      <td>0</td>\n",
       "      <td>0</td>\n",
       "      <td>0</td>\n",
       "      <td>...</td>\n",
       "      <td>0</td>\n",
       "      <td>10</td>\n",
       "      <td>0</td>\n",
       "      <td>0</td>\n",
       "      <td>10</td>\n",
       "      <td>0</td>\n",
       "      <td>10</td>\n",
       "      <td>0</td>\n",
       "      <td>0</td>\n",
       "      <td>0</td>\n",
       "    </tr>\n",
       "    <tr>\n",
       "      <th>Jammu</th>\n",
       "      <td>0</td>\n",
       "      <td>0</td>\n",
       "      <td>0</td>\n",
       "      <td>50</td>\n",
       "      <td>0</td>\n",
       "      <td>0</td>\n",
       "      <td>0</td>\n",
       "      <td>0</td>\n",
       "      <td>0</td>\n",
       "      <td>0</td>\n",
       "      <td>...</td>\n",
       "      <td>0</td>\n",
       "      <td>0</td>\n",
       "      <td>0</td>\n",
       "      <td>0</td>\n",
       "      <td>0</td>\n",
       "      <td>0</td>\n",
       "      <td>0</td>\n",
       "      <td>0</td>\n",
       "      <td>0</td>\n",
       "      <td>0</td>\n",
       "    </tr>\n",
       "    <tr>\n",
       "      <th>Kolkata</th>\n",
       "      <td>0</td>\n",
       "      <td>10</td>\n",
       "      <td>0</td>\n",
       "      <td>20</td>\n",
       "      <td>0</td>\n",
       "      <td>0</td>\n",
       "      <td>20</td>\n",
       "      <td>20</td>\n",
       "      <td>20</td>\n",
       "      <td>0</td>\n",
       "      <td>...</td>\n",
       "      <td>95</td>\n",
       "      <td>20</td>\n",
       "      <td>10</td>\n",
       "      <td>20</td>\n",
       "      <td>0</td>\n",
       "      <td>20</td>\n",
       "      <td>0</td>\n",
       "      <td>0</td>\n",
       "      <td>0</td>\n",
       "      <td>0</td>\n",
       "    </tr>\n",
       "    <tr>\n",
       "      <th>Mumbai</th>\n",
       "      <td>0</td>\n",
       "      <td>20</td>\n",
       "      <td>10</td>\n",
       "      <td>0</td>\n",
       "      <td>20</td>\n",
       "      <td>10</td>\n",
       "      <td>20</td>\n",
       "      <td>0</td>\n",
       "      <td>0</td>\n",
       "      <td>0</td>\n",
       "      <td>...</td>\n",
       "      <td>0</td>\n",
       "      <td>183</td>\n",
       "      <td>0</td>\n",
       "      <td>0</td>\n",
       "      <td>0</td>\n",
       "      <td>0</td>\n",
       "      <td>0</td>\n",
       "      <td>0</td>\n",
       "      <td>10</td>\n",
       "      <td>0</td>\n",
       "    </tr>\n",
       "    <tr>\n",
       "      <th>New Delhi</th>\n",
       "      <td>0</td>\n",
       "      <td>10</td>\n",
       "      <td>0</td>\n",
       "      <td>20</td>\n",
       "      <td>0</td>\n",
       "      <td>0</td>\n",
       "      <td>155</td>\n",
       "      <td>0</td>\n",
       "      <td>10</td>\n",
       "      <td>10</td>\n",
       "      <td>...</td>\n",
       "      <td>189</td>\n",
       "      <td>0</td>\n",
       "      <td>10</td>\n",
       "      <td>0</td>\n",
       "      <td>0</td>\n",
       "      <td>0</td>\n",
       "      <td>0</td>\n",
       "      <td>10</td>\n",
       "      <td>0</td>\n",
       "      <td>10</td>\n",
       "    </tr>\n",
       "    <tr>\n",
       "      <th>Patna</th>\n",
       "      <td>0</td>\n",
       "      <td>60</td>\n",
       "      <td>0</td>\n",
       "      <td>0</td>\n",
       "      <td>0</td>\n",
       "      <td>0</td>\n",
       "      <td>0</td>\n",
       "      <td>0</td>\n",
       "      <td>0</td>\n",
       "      <td>0</td>\n",
       "      <td>...</td>\n",
       "      <td>0</td>\n",
       "      <td>0</td>\n",
       "      <td>0</td>\n",
       "      <td>0</td>\n",
       "      <td>0</td>\n",
       "      <td>0</td>\n",
       "      <td>0</td>\n",
       "      <td>0</td>\n",
       "      <td>0</td>\n",
       "      <td>0</td>\n",
       "    </tr>\n",
       "    <tr>\n",
       "      <th>Pune</th>\n",
       "      <td>0</td>\n",
       "      <td>0</td>\n",
       "      <td>0</td>\n",
       "      <td>0</td>\n",
       "      <td>0</td>\n",
       "      <td>0</td>\n",
       "      <td>0</td>\n",
       "      <td>0</td>\n",
       "      <td>0</td>\n",
       "      <td>0</td>\n",
       "      <td>...</td>\n",
       "      <td>0</td>\n",
       "      <td>60</td>\n",
       "      <td>0</td>\n",
       "      <td>0</td>\n",
       "      <td>0</td>\n",
       "      <td>0</td>\n",
       "      <td>0</td>\n",
       "      <td>0</td>\n",
       "      <td>0</td>\n",
       "      <td>0</td>\n",
       "    </tr>\n",
       "  </tbody>\n",
       "</table>\n",
       "<p>9 rows × 25 columns</p>\n",
       "</div>"
      ],
      "text/plain": [
       "Destination  Ahmedabad  Bangalore  Chandigarh  Chennai  Coimbatore  Dehradun  \\\n",
       "Source                                                                         \n",
       "Bangalore            0          0           0        0           0         0   \n",
       "Chennai              0          0           0        0           0         0   \n",
       "Hyderabad           10         20           0       20           0        10   \n",
       "Jammu                0          0           0       50           0         0   \n",
       "Kolkata              0         10           0       20           0         0   \n",
       "Mumbai               0         20          10        0          20        10   \n",
       "New Delhi            0         10           0       20           0         0   \n",
       "Patna                0         60           0        0           0         0   \n",
       "Pune                 0          0           0        0           0         0   \n",
       "\n",
       "Destination  Goa  Guwahati  Hyderabad  Imphal  ...  Mumbai  New Delhi  \\\n",
       "Source                                         ...                      \n",
       "Bangalore      0         0          0       0  ...       0        332   \n",
       "Chennai        0         0          0       0  ...       0         60   \n",
       "Hyderabad     10         0          0       0  ...       0         10   \n",
       "Jammu          0         0          0       0  ...       0          0   \n",
       "Kolkata       20        20         20       0  ...      95         20   \n",
       "Mumbai        20         0          0       0  ...       0        183   \n",
       "New Delhi    155         0         10      10  ...     189          0   \n",
       "Patna          0         0          0       0  ...       0          0   \n",
       "Pune           0         0          0       0  ...       0         60   \n",
       "\n",
       "Destination  Port Blair  Pune  Rajahmundry  Srinagar  Tirupati  Trivandrum  \\\n",
       "Source                                                                       \n",
       "Bangalore             0     0            0         0         0           0   \n",
       "Chennai               0     0            0         0         0           0   \n",
       "Hyderabad             0     0           10         0        10           0   \n",
       "Jammu                 0     0            0         0         0           0   \n",
       "Kolkata              10    20            0        20         0           0   \n",
       "Mumbai                0     0            0         0         0           0   \n",
       "New Delhi            10     0            0         0         0          10   \n",
       "Patna                 0     0            0         0         0           0   \n",
       "Pune                  0     0            0         0         0           0   \n",
       "\n",
       "Destination  Varanasi  Vijayawada  \n",
       "Source                             \n",
       "Bangalore           0           0  \n",
       "Chennai             0           0  \n",
       "Hyderabad           0           0  \n",
       "Jammu               0           0  \n",
       "Kolkata             0           0  \n",
       "Mumbai             10           0  \n",
       "New Delhi           0          10  \n",
       "Patna               0           0  \n",
       "Pune                0           0  \n",
       "\n",
       "[9 rows x 25 columns]"
      ]
     },
     "execution_count": 13,
     "metadata": {},
     "output_type": "execute_result"
    }
   ],
   "source": [
    "pd.crosstab(df['Source'],df['Destination'])"
   ]
  },
  {
   "cell_type": "code",
   "execution_count": 14,
   "metadata": {},
   "outputs": [
    {
     "data": {
      "text/plain": [
       "Unnamed: 0          1604\n",
       "Name           Air India\n",
       "Date              30-Nov\n",
       "Departure           5:55\n",
       "Arrival            19:05\n",
       "Source           Chennai\n",
       "Destination        Jammu\n",
       "Stops          3 Stop(s)\n",
       "Duration         13h 10m\n",
       "Price              34539\n",
       "Name: 1604, dtype: object"
      ]
     },
     "execution_count": 14,
     "metadata": {},
     "output_type": "execute_result"
    }
   ],
   "source": [
    "#row of the entire dataset where the price is maximum\n",
    "df.loc[df['Price'].idxmax()]"
   ]
  },
  {
   "cell_type": "code",
   "execution_count": 15,
   "metadata": {},
   "outputs": [
    {
     "data": {
      "text/plain": [
       "Unnamed: 0           300\n",
       "Name            Go First\n",
       "Date              24-Nov\n",
       "Departure          16:00\n",
       "Arrival            17:10\n",
       "Source         Hyderabad\n",
       "Destination      Chennai\n",
       "Stops           Non Stop\n",
       "Duration          1h 10m\n",
       "Price               1789\n",
       "Name: 300, dtype: object"
      ]
     },
     "execution_count": 15,
     "metadata": {},
     "output_type": "execute_result"
    }
   ],
   "source": [
    "#row of the entire dataset where the price is miniimum\n",
    "df.loc[df['Price'].idxmin()]"
   ]
  },
  {
   "cell_type": "code",
   "execution_count": 16,
   "metadata": {},
   "outputs": [
    {
     "data": {
      "text/html": [
       "<div>\n",
       "<style scoped>\n",
       "    .dataframe tbody tr th:only-of-type {\n",
       "        vertical-align: middle;\n",
       "    }\n",
       "\n",
       "    .dataframe tbody tr th {\n",
       "        vertical-align: top;\n",
       "    }\n",
       "\n",
       "    .dataframe thead th {\n",
       "        text-align: right;\n",
       "    }\n",
       "</style>\n",
       "<table border=\"1\" class=\"dataframe\">\n",
       "  <thead>\n",
       "    <tr style=\"text-align: right;\">\n",
       "      <th>Stops</th>\n",
       "      <th>1 Stop</th>\n",
       "      <th>2 Stop(s)</th>\n",
       "      <th>3 Stop(s)</th>\n",
       "      <th>Non Stop</th>\n",
       "    </tr>\n",
       "    <tr>\n",
       "      <th>Name</th>\n",
       "      <th></th>\n",
       "      <th></th>\n",
       "      <th></th>\n",
       "      <th></th>\n",
       "    </tr>\n",
       "  </thead>\n",
       "  <tbody>\n",
       "    <tr>\n",
       "      <th>Air Asia</th>\n",
       "      <td>86</td>\n",
       "      <td>0</td>\n",
       "      <td>0</td>\n",
       "      <td>58</td>\n",
       "    </tr>\n",
       "    <tr>\n",
       "      <th>Air India</th>\n",
       "      <td>147</td>\n",
       "      <td>58</td>\n",
       "      <td>1</td>\n",
       "      <td>42</td>\n",
       "    </tr>\n",
       "    <tr>\n",
       "      <th>Go First</th>\n",
       "      <td>129</td>\n",
       "      <td>1</td>\n",
       "      <td>0</td>\n",
       "      <td>101</td>\n",
       "    </tr>\n",
       "    <tr>\n",
       "      <th>IndiGo</th>\n",
       "      <td>452</td>\n",
       "      <td>15</td>\n",
       "      <td>0</td>\n",
       "      <td>264</td>\n",
       "    </tr>\n",
       "    <tr>\n",
       "      <th>SpiceJet</th>\n",
       "      <td>104</td>\n",
       "      <td>2</td>\n",
       "      <td>0</td>\n",
       "      <td>85</td>\n",
       "    </tr>\n",
       "    <tr>\n",
       "      <th>TruJet</th>\n",
       "      <td>0</td>\n",
       "      <td>0</td>\n",
       "      <td>0</td>\n",
       "      <td>1</td>\n",
       "    </tr>\n",
       "    <tr>\n",
       "      <th>Vistara</th>\n",
       "      <td>192</td>\n",
       "      <td>32</td>\n",
       "      <td>4</td>\n",
       "      <td>101</td>\n",
       "    </tr>\n",
       "  </tbody>\n",
       "</table>\n",
       "</div>"
      ],
      "text/plain": [
       "Stops      1 Stop  2 Stop(s)  3 Stop(s)  Non Stop\n",
       "Name                                             \n",
       "Air Asia       86          0          0        58\n",
       "Air India     147         58          1        42\n",
       "Go First      129          1          0       101\n",
       "IndiGo        452         15          0       264\n",
       "SpiceJet      104          2          0        85\n",
       "TruJet          0          0          0         1\n",
       "Vistara       192         32          4       101"
      ]
     },
     "execution_count": 16,
     "metadata": {},
     "output_type": "execute_result"
    }
   ],
   "source": [
    "#stats of airlines with total stops\n",
    "pd.crosstab(df['Name'],df['Stops'])"
   ]
  },
  {
   "cell_type": "markdown",
   "metadata": {},
   "source": [
    "### Bivariate Analysis"
   ]
  },
  {
   "cell_type": "code",
   "execution_count": 17,
   "metadata": {},
   "outputs": [
    {
     "data": {
      "text/plain": [
       "(array([0, 1, 2, 3, 4, 5, 6]), <a list of 7 Text xticklabel objects>)"
      ]
     },
     "execution_count": 17,
     "metadata": {},
     "output_type": "execute_result"
    },
    {
     "data": {
      "image/png": "[encoded data removed]",
      "text/plain": [
       "<Figure size 720x360 with 1 Axes>"
      ]
     },
     "metadata": {
      "needs_background": "light"
     },
     "output_type": "display_data"
    }
   ],
   "source": [
    "sns.catplot(x=\"Name\", y=\"Price\", data=df, aspect=2)\n",
    "plt.xticks(rotation=60)"
   ]
  },
  {
   "cell_type": "code",
   "execution_count": 18,
   "metadata": {
    "scrolled": false
   },
   "outputs": [
    {
     "data": {
      "text/plain": [
       "(array([0, 1, 2, 3, 4, 5, 6, 7, 8]), <a list of 9 Text xticklabel objects>)"
      ]
     },
     "execution_count": 18,
     "metadata": {},
     "output_type": "execute_result"
    },
    {
     "data": {
      "image/png": "[encoded data removed]",
      "text/plain": [
       "<Figure size 360x360 with 1 Axes>"
      ]
     },
     "metadata": {
      "needs_background": "light"
     },
     "output_type": "display_data"
    }
   ],
   "source": [
    "sns.catplot(x=\"Source\", y=\"Price\", data=df, aspect=1)\n",
    "plt.xticks(rotation=60)"
   ]
  },
  {
   "cell_type": "markdown",
   "metadata": {},
   "source": [
    "Flights from bangalore and jammu have higher price "
   ]
  },
  {
   "cell_type": "code",
   "execution_count": 19,
   "metadata": {},
   "outputs": [
    {
     "data": {
      "text/plain": [
       "(array([0, 1, 2, 3]), <a list of 4 Text xticklabel objects>)"
      ]
     },
     "execution_count": 19,
     "metadata": {},
     "output_type": "execute_result"
    },
    {
     "data": {
      "image/png": "[encoded data removed]",
      "text/plain": [
       "<Figure size 360x360 with 1 Axes>"
      ]
     },
     "metadata": {
      "needs_background": "light"
     },
     "output_type": "display_data"
    }
   ],
   "source": [
    "sns.catplot(x=\"Stops\", y=\"Price\", data=df)\n",
    "plt.xticks(rotation=60)"
   ]
  },
  {
   "cell_type": "markdown",
   "metadata": {},
   "source": [
    "Flights taking longer route i.e. with more number of stops have higher price."
   ]
  },
  {
   "cell_type": "code",
   "execution_count": 20,
   "metadata": {},
   "outputs": [
    {
     "data": {
      "text/plain": [
       "(array([ 0,  1,  2,  3,  4,  5,  6,  7,  8,  9, 10, 11, 12, 13, 14, 15, 16,\n",
       "        17, 18, 19, 20, 21, 22, 23, 24, 25, 26, 27, 28, 29, 30, 31, 32, 33,\n",
       "        34, 35]), <a list of 36 Text xticklabel objects>)"
      ]
     },
     "execution_count": 20,
     "metadata": {},
     "output_type": "execute_result"
    },
    {
     "data": {
      "image/png": "[encoded data removed]",
      "text/plain": [
       "<Figure size 720x360 with 1 Axes>"
      ]
     },
     "metadata": {
      "needs_background": "light"
     },
     "output_type": "display_data"
    }
   ],
   "source": [
    "sns.catplot(x=\"Date\", y=\"Price\", data=df, aspect=2)\n",
    "plt.xticks(rotation=60)"
   ]
  },
  {
   "cell_type": "markdown",
   "metadata": {},
   "source": [
    "We observe that flights of november month which is the next month is high as compared to next coming monts."
   ]
  },
  {
   "cell_type": "code",
   "execution_count": 21,
   "metadata": {},
   "outputs": [
    {
     "data": {
      "text/plain": [
       "Source\n",
       "Bangalore    9757.198795\n",
       "Chennai      4591.564356\n",
       "Hyderabad    3018.661538\n",
       "Jammu        7805.140000\n",
       "Kolkata      4784.031373\n",
       "Mumbai       4065.588589\n",
       "New Delhi    4742.230415\n",
       "Patna        4529.300000\n",
       "Pune         4154.000000\n",
       "Name: Price, dtype: float64"
      ]
     },
     "execution_count": 21,
     "metadata": {},
     "output_type": "execute_result"
    }
   ],
   "source": [
    "df['Price'].groupby(df['Source']).mean()"
   ]
  },
  {
   "cell_type": "markdown",
   "metadata": {},
   "source": [
    "Flights from bangalore have highest price"
   ]
  },
  {
   "cell_type": "code",
   "execution_count": 22,
   "metadata": {},
   "outputs": [
    {
     "data": {
      "text/plain": [
       "Name\n",
       "Air Asia     4884.277778\n",
       "Air India    6743.193548\n",
       "Go First     5355.112554\n",
       "IndiGo       4743.179207\n",
       "SpiceJet     4936.020942\n",
       "TruJet       2021.000000\n",
       "Vistara      6420.826748\n",
       "Name: Price, dtype: float64"
      ]
     },
     "execution_count": 22,
     "metadata": {},
     "output_type": "execute_result"
    }
   ],
   "source": [
    "df['Price'].groupby(df['Name']).mean()"
   ]
  },
  {
   "cell_type": "markdown",
   "metadata": {},
   "source": [
    "Air India and Vistara flights are expensive."
   ]
  },
  {
   "cell_type": "markdown",
   "metadata": {},
   "source": [
    "### Data Cleaning"
   ]
  },
  {
   "cell_type": "code",
   "execution_count": 23,
   "metadata": {},
   "outputs": [],
   "source": [
    "df.drop(columns=[\"Unnamed: 0\"], inplace=True)"
   ]
  },
  {
   "cell_type": "markdown",
   "metadata": {},
   "source": [
    "Below few steps include cleaning of data to make it easy to analyze. We are first going to form a new dataframe 'time' and then extract information from it to form a new column."
   ]
  },
  {
   "cell_type": "code",
   "execution_count": 24,
   "metadata": {},
   "outputs": [
    {
     "data": {
      "text/html": [
       "<div>\n",
       "<style scoped>\n",
       "    .dataframe tbody tr th:only-of-type {\n",
       "        vertical-align: middle;\n",
       "    }\n",
       "\n",
       "    .dataframe tbody tr th {\n",
       "        vertical-align: top;\n",
       "    }\n",
       "\n",
       "    .dataframe thead th {\n",
       "        text-align: right;\n",
       "    }\n",
       "</style>\n",
       "<table border=\"1\" class=\"dataframe\">\n",
       "  <thead>\n",
       "    <tr style=\"text-align: right;\">\n",
       "      <th></th>\n",
       "      <th>Departure</th>\n",
       "      <th>Arrival</th>\n",
       "      <th>Duration</th>\n",
       "      <th>Date</th>\n",
       "    </tr>\n",
       "  </thead>\n",
       "  <tbody>\n",
       "    <tr>\n",
       "      <th>0</th>\n",
       "      <td>22:40</td>\n",
       "      <td>01:30 + 1 day</td>\n",
       "      <td>2h 50m</td>\n",
       "      <td>24-Jan</td>\n",
       "    </tr>\n",
       "    <tr>\n",
       "      <th>1</th>\n",
       "      <td>3:00</td>\n",
       "      <td>5:55</td>\n",
       "      <td>2h 55m</td>\n",
       "      <td>24-Jan</td>\n",
       "    </tr>\n",
       "    <tr>\n",
       "      <th>2</th>\n",
       "      <td>8:35</td>\n",
       "      <td>11:30</td>\n",
       "      <td>2h 55m</td>\n",
       "      <td>24-Jan</td>\n",
       "    </tr>\n",
       "    <tr>\n",
       "      <th>3</th>\n",
       "      <td>20:15</td>\n",
       "      <td>23:10</td>\n",
       "      <td>2h 55m</td>\n",
       "      <td>24-Jan</td>\n",
       "    </tr>\n",
       "    <tr>\n",
       "      <th>4</th>\n",
       "      <td>9:50</td>\n",
       "      <td>12:50</td>\n",
       "      <td>3h 00m</td>\n",
       "      <td>24-Jan</td>\n",
       "    </tr>\n",
       "  </tbody>\n",
       "</table>\n",
       "</div>"
      ],
      "text/plain": [
       "  Departure        Arrival Duration    Date\n",
       "0     22:40  01:30 + 1 day   2h 50m  24-Jan\n",
       "1      3:00           5:55   2h 55m  24-Jan\n",
       "2      8:35          11:30   2h 55m  24-Jan\n",
       "3     20:15          23:10   2h 55m  24-Jan\n",
       "4      9:50          12:50   3h 00m  24-Jan"
      ]
     },
     "execution_count": 24,
     "metadata": {},
     "output_type": "execute_result"
    }
   ],
   "source": [
    "time= df[[\"Departure\",\"Arrival\",\"Duration\",\"Date\"]]\n",
    "time=pd.DataFrame(time)\n",
    "time.head()"
   ]
  },
  {
   "cell_type": "code",
   "execution_count": 25,
   "metadata": {},
   "outputs": [],
   "source": [
    "list=[]\n",
    "hrs=[]\n",
    "min=[]\n",
    "list=time[\"Departure\"]\n",
    "for i in range(len(list)):\n",
    "    str=[]\n",
    "    str=list[i].split(':')\n",
    "    hrs.append(str[0])  ## Seperating hours and minutes\n",
    "    min.append(str[1])\n",
    "time[\"Dep_time_hours\"]=hrs\n",
    "time[\"Dep_time_min\"]=min"
   ]
  },
  {
   "cell_type": "code",
   "execution_count": 26,
   "metadata": {},
   "outputs": [],
   "source": [
    "list=[]\n",
    "hrs=[]\n",
    "min=[]\n",
    "list=time[\"Duration\"]\n",
    "for i in range(len(list)):\n",
    "    str=[]\n",
    "    str=list[i].split(' ')\n",
    "    if(len(str)>1):\n",
    "        hrs.append(str[0][:-1])   ## Seperating hours and minutes\n",
    "        min.append(str[1][:-1])\n",
    "    else:\n",
    "        hrs.append(list[i][:-1])\n",
    "        min.append('0')\n",
    "time[\"Duration_hours\"]=hrs\n",
    "time[\"Duration_min\"]=min"
   ]
  },
  {
   "cell_type": "code",
   "execution_count": 27,
   "metadata": {},
   "outputs": [],
   "source": [
    "list=[]\n",
    "hrs=[]\n",
    "min=[]\n",
    "list=time[\"Arrival\"]\n",
    "for i in range(len(list)):\n",
    "    str=[]\n",
    "    str=list[i].split(':')\n",
    "    hrs.append(str[0])  ## Seperating hours and minutes\n",
    "    min.append(str[1][:3])\n",
    "time[\"Arrival_time_hours\"]=hrs\n",
    "time[\"Arrival_time_min\"]=min"
   ]
  },
  {
   "cell_type": "code",
   "execution_count": 28,
   "metadata": {},
   "outputs": [],
   "source": [
    "list=[]\n",
    "d=[]\n",
    "m=[]\n",
    "list=time[\"Date\"]\n",
    "for i in range(len(list)):\n",
    "    d.append(list[i][:2])  ## Seperating date and month\n",
    "    m.append(list[i][3:])\n",
    "time[\"day\"]=d\n",
    "time[\"month\"]=m"
   ]
  },
  {
   "cell_type": "code",
   "execution_count": 29,
   "metadata": {},
   "outputs": [],
   "source": [
    "month=[]\n",
    "for i in time[\"month\"]:\n",
    "    if i==\"Jan\":\n",
    "        month.append(1)\n",
    "    elif i==\"Feb\":\n",
    "        month.append(2)\n",
    "    elif i==\"Mar\":\n",
    "        month.append(3)\n",
    "    elif i==\"Apr\":\n",
    "        month.append(4)\n",
    "    elif i==\"May\":\n",
    "        month.append(5)\n",
    "    elif i==\"Jun\":\n",
    "        month.append(6)\n",
    "    elif i==\"Jul\":\n",
    "        month.append(7)\n",
    "    elif i==\"Aug\":\n",
    "        month.append(8)\n",
    "    elif i==\"Sep\":\n",
    "        month.append(9)\n",
    "    elif i==\"Oct\":\n",
    "        month.append(10)\n",
    "    elif i==\"Nov\":\n",
    "        month.append(11)\n",
    "    elif i==\"Dec\":\n",
    "        month.append(12)\n",
    "    else:\n",
    "        month.append(np.nan)\n",
    "time[\"month\"]=month"
   ]
  },
  {
   "cell_type": "code",
   "execution_count": 30,
   "metadata": {},
   "outputs": [
    {
     "data": {
      "text/html": [
       "<div>\n",
       "<style scoped>\n",
       "    .dataframe tbody tr th:only-of-type {\n",
       "        vertical-align: middle;\n",
       "    }\n",
       "\n",
       "    .dataframe tbody tr th {\n",
       "        vertical-align: top;\n",
       "    }\n",
       "\n",
       "    .dataframe thead th {\n",
       "        text-align: right;\n",
       "    }\n",
       "</style>\n",
       "<table border=\"1\" class=\"dataframe\">\n",
       "  <thead>\n",
       "    <tr style=\"text-align: right;\">\n",
       "      <th></th>\n",
       "      <th>Departure</th>\n",
       "      <th>Arrival</th>\n",
       "      <th>Duration</th>\n",
       "      <th>Date</th>\n",
       "      <th>Dep_time_hours</th>\n",
       "      <th>Dep_time_min</th>\n",
       "      <th>Duration_hours</th>\n",
       "      <th>Duration_min</th>\n",
       "      <th>Arrival_time_hours</th>\n",
       "      <th>Arrival_time_min</th>\n",
       "      <th>day</th>\n",
       "      <th>month</th>\n",
       "    </tr>\n",
       "  </thead>\n",
       "  <tbody>\n",
       "    <tr>\n",
       "      <th>0</th>\n",
       "      <td>22:40</td>\n",
       "      <td>01:30 + 1 day</td>\n",
       "      <td>2h 50m</td>\n",
       "      <td>24-Jan</td>\n",
       "      <td>22</td>\n",
       "      <td>40</td>\n",
       "      <td>2</td>\n",
       "      <td>50</td>\n",
       "      <td>01</td>\n",
       "      <td>30</td>\n",
       "      <td>24</td>\n",
       "      <td>1</td>\n",
       "    </tr>\n",
       "    <tr>\n",
       "      <th>1</th>\n",
       "      <td>3:00</td>\n",
       "      <td>5:55</td>\n",
       "      <td>2h 55m</td>\n",
       "      <td>24-Jan</td>\n",
       "      <td>3</td>\n",
       "      <td>00</td>\n",
       "      <td>2</td>\n",
       "      <td>55</td>\n",
       "      <td>5</td>\n",
       "      <td>55</td>\n",
       "      <td>24</td>\n",
       "      <td>1</td>\n",
       "    </tr>\n",
       "    <tr>\n",
       "      <th>2</th>\n",
       "      <td>8:35</td>\n",
       "      <td>11:30</td>\n",
       "      <td>2h 55m</td>\n",
       "      <td>24-Jan</td>\n",
       "      <td>8</td>\n",
       "      <td>35</td>\n",
       "      <td>2</td>\n",
       "      <td>55</td>\n",
       "      <td>11</td>\n",
       "      <td>30</td>\n",
       "      <td>24</td>\n",
       "      <td>1</td>\n",
       "    </tr>\n",
       "    <tr>\n",
       "      <th>3</th>\n",
       "      <td>20:15</td>\n",
       "      <td>23:10</td>\n",
       "      <td>2h 55m</td>\n",
       "      <td>24-Jan</td>\n",
       "      <td>20</td>\n",
       "      <td>15</td>\n",
       "      <td>2</td>\n",
       "      <td>55</td>\n",
       "      <td>23</td>\n",
       "      <td>10</td>\n",
       "      <td>24</td>\n",
       "      <td>1</td>\n",
       "    </tr>\n",
       "    <tr>\n",
       "      <th>4</th>\n",
       "      <td>9:50</td>\n",
       "      <td>12:50</td>\n",
       "      <td>3h 00m</td>\n",
       "      <td>24-Jan</td>\n",
       "      <td>9</td>\n",
       "      <td>50</td>\n",
       "      <td>3</td>\n",
       "      <td>00</td>\n",
       "      <td>12</td>\n",
       "      <td>50</td>\n",
       "      <td>24</td>\n",
       "      <td>1</td>\n",
       "    </tr>\n",
       "  </tbody>\n",
       "</table>\n",
       "</div>"
      ],
      "text/plain": [
       "  Departure        Arrival Duration    Date Dep_time_hours Dep_time_min  \\\n",
       "0     22:40  01:30 + 1 day   2h 50m  24-Jan             22           40   \n",
       "1      3:00           5:55   2h 55m  24-Jan              3           00   \n",
       "2      8:35          11:30   2h 55m  24-Jan              8           35   \n",
       "3     20:15          23:10   2h 55m  24-Jan             20           15   \n",
       "4      9:50          12:50   3h 00m  24-Jan              9           50   \n",
       "\n",
       "  Duration_hours Duration_min Arrival_time_hours Arrival_time_min day  month  \n",
       "0              2           50                 01              30   24      1  \n",
       "1              2           55                  5               55  24      1  \n",
       "2              2           55                 11               30  24      1  \n",
       "3              2           55                 23               10  24      1  \n",
       "4              3           00                 12               50  24      1  "
      ]
     },
     "execution_count": 30,
     "metadata": {},
     "output_type": "execute_result"
    }
   ],
   "source": [
    "time.head()"
   ]
  },
  {
   "cell_type": "code",
   "execution_count": 31,
   "metadata": {},
   "outputs": [],
   "source": [
    "time.drop(columns=[\"Departure\",\"Arrival\",\"Duration\",\"Date\"],inplace=True)"
   ]
  },
  {
   "cell_type": "code",
   "execution_count": 32,
   "metadata": {},
   "outputs": [
    {
     "data": {
      "text/html": [
       "<div>\n",
       "<style scoped>\n",
       "    .dataframe tbody tr th:only-of-type {\n",
       "        vertical-align: middle;\n",
       "    }\n",
       "\n",
       "    .dataframe tbody tr th {\n",
       "        vertical-align: top;\n",
       "    }\n",
       "\n",
       "    .dataframe thead th {\n",
       "        text-align: right;\n",
       "    }\n",
       "</style>\n",
       "<table border=\"1\" class=\"dataframe\">\n",
       "  <thead>\n",
       "    <tr style=\"text-align: right;\">\n",
       "      <th></th>\n",
       "      <th>Name</th>\n",
       "      <th>Date</th>\n",
       "      <th>Departure</th>\n",
       "      <th>Arrival</th>\n",
       "      <th>Source</th>\n",
       "      <th>Destination</th>\n",
       "      <th>Stops</th>\n",
       "      <th>Duration</th>\n",
       "      <th>Price</th>\n",
       "      <th>Dep_time_hours</th>\n",
       "      <th>Dep_time_min</th>\n",
       "      <th>Duration_hours</th>\n",
       "      <th>Duration_min</th>\n",
       "      <th>Arrival_time_hours</th>\n",
       "      <th>Arrival_time_min</th>\n",
       "      <th>day</th>\n",
       "      <th>month</th>\n",
       "    </tr>\n",
       "  </thead>\n",
       "  <tbody>\n",
       "    <tr>\n",
       "      <th>0</th>\n",
       "      <td>IndiGo</td>\n",
       "      <td>24-Jan</td>\n",
       "      <td>22:40</td>\n",
       "      <td>01:30 + 1 day</td>\n",
       "      <td>New Delhi</td>\n",
       "      <td>Chennai</td>\n",
       "      <td>Non Stop</td>\n",
       "      <td>2h 50m</td>\n",
       "      <td>2341</td>\n",
       "      <td>22</td>\n",
       "      <td>40</td>\n",
       "      <td>2</td>\n",
       "      <td>50</td>\n",
       "      <td>01</td>\n",
       "      <td>30</td>\n",
       "      <td>24</td>\n",
       "      <td>1</td>\n",
       "    </tr>\n",
       "    <tr>\n",
       "      <th>1</th>\n",
       "      <td>IndiGo</td>\n",
       "      <td>24-Jan</td>\n",
       "      <td>3:00</td>\n",
       "      <td>5:55</td>\n",
       "      <td>New Delhi</td>\n",
       "      <td>Chennai</td>\n",
       "      <td>Non Stop</td>\n",
       "      <td>2h 55m</td>\n",
       "      <td>2341</td>\n",
       "      <td>3</td>\n",
       "      <td>00</td>\n",
       "      <td>2</td>\n",
       "      <td>55</td>\n",
       "      <td>5</td>\n",
       "      <td>55</td>\n",
       "      <td>24</td>\n",
       "      <td>1</td>\n",
       "    </tr>\n",
       "    <tr>\n",
       "      <th>2</th>\n",
       "      <td>IndiGo</td>\n",
       "      <td>24-Jan</td>\n",
       "      <td>8:35</td>\n",
       "      <td>11:30</td>\n",
       "      <td>New Delhi</td>\n",
       "      <td>Chennai</td>\n",
       "      <td>Non Stop</td>\n",
       "      <td>2h 55m</td>\n",
       "      <td>2341</td>\n",
       "      <td>8</td>\n",
       "      <td>35</td>\n",
       "      <td>2</td>\n",
       "      <td>55</td>\n",
       "      <td>11</td>\n",
       "      <td>30</td>\n",
       "      <td>24</td>\n",
       "      <td>1</td>\n",
       "    </tr>\n",
       "    <tr>\n",
       "      <th>3</th>\n",
       "      <td>IndiGo</td>\n",
       "      <td>24-Jan</td>\n",
       "      <td>20:15</td>\n",
       "      <td>23:10</td>\n",
       "      <td>New Delhi</td>\n",
       "      <td>Chennai</td>\n",
       "      <td>Non Stop</td>\n",
       "      <td>2h 55m</td>\n",
       "      <td>2341</td>\n",
       "      <td>20</td>\n",
       "      <td>15</td>\n",
       "      <td>2</td>\n",
       "      <td>55</td>\n",
       "      <td>23</td>\n",
       "      <td>10</td>\n",
       "      <td>24</td>\n",
       "      <td>1</td>\n",
       "    </tr>\n",
       "    <tr>\n",
       "      <th>4</th>\n",
       "      <td>IndiGo</td>\n",
       "      <td>24-Jan</td>\n",
       "      <td>9:50</td>\n",
       "      <td>12:50</td>\n",
       "      <td>New Delhi</td>\n",
       "      <td>Chennai</td>\n",
       "      <td>Non Stop</td>\n",
       "      <td>3h 00m</td>\n",
       "      <td>2341</td>\n",
       "      <td>9</td>\n",
       "      <td>50</td>\n",
       "      <td>3</td>\n",
       "      <td>00</td>\n",
       "      <td>12</td>\n",
       "      <td>50</td>\n",
       "      <td>24</td>\n",
       "      <td>1</td>\n",
       "    </tr>\n",
       "  </tbody>\n",
       "</table>\n",
       "</div>"
      ],
      "text/plain": [
       "     Name    Date Departure        Arrival     Source Destination     Stops  \\\n",
       "0  IndiGo  24-Jan     22:40  01:30 + 1 day  New Delhi     Chennai  Non Stop   \n",
       "1  IndiGo  24-Jan      3:00           5:55  New Delhi     Chennai  Non Stop   \n",
       "2  IndiGo  24-Jan      8:35          11:30  New Delhi     Chennai  Non Stop   \n",
       "3  IndiGo  24-Jan     20:15          23:10  New Delhi     Chennai  Non Stop   \n",
       "4  IndiGo  24-Jan      9:50          12:50  New Delhi     Chennai  Non Stop   \n",
       "\n",
       "  Duration  Price Dep_time_hours Dep_time_min Duration_hours Duration_min  \\\n",
       "0   2h 50m   2341             22           40              2           50   \n",
       "1   2h 55m   2341              3           00              2           55   \n",
       "2   2h 55m   2341              8           35              2           55   \n",
       "3   2h 55m   2341             20           15              2           55   \n",
       "4   3h 00m   2341              9           50              3           00   \n",
       "\n",
       "  Arrival_time_hours Arrival_time_min day  month  \n",
       "0                 01              30   24      1  \n",
       "1                  5               55  24      1  \n",
       "2                 11               30  24      1  \n",
       "3                 23               10  24      1  \n",
       "4                 12               50  24      1  "
      ]
     },
     "execution_count": 32,
     "metadata": {},
     "output_type": "execute_result"
    }
   ],
   "source": [
    "data=pd.concat([df,time],axis=1) # joining both dataframes\n",
    "data.head()"
   ]
  },
  {
   "cell_type": "code",
   "execution_count": 33,
   "metadata": {},
   "outputs": [
    {
     "data": {
      "text/plain": [
       "1 Stop       1110\n",
       "Non Stop      652\n",
       "2 Stop(s)     108\n",
       "3 Stop(s)       5\n",
       "Name: Stops, dtype: int64"
      ]
     },
     "execution_count": 33,
     "metadata": {},
     "output_type": "execute_result"
    }
   ],
   "source": [
    "df[\"Stops\"].value_counts()"
   ]
  },
  {
   "cell_type": "code",
   "execution_count": 34,
   "metadata": {},
   "outputs": [
    {
     "data": {
      "text/html": [
       "<div>\n",
       "<style scoped>\n",
       "    .dataframe tbody tr th:only-of-type {\n",
       "        vertical-align: middle;\n",
       "    }\n",
       "\n",
       "    .dataframe tbody tr th {\n",
       "        vertical-align: top;\n",
       "    }\n",
       "\n",
       "    .dataframe thead th {\n",
       "        text-align: right;\n",
       "    }\n",
       "</style>\n",
       "<table border=\"1\" class=\"dataframe\">\n",
       "  <thead>\n",
       "    <tr style=\"text-align: right;\">\n",
       "      <th></th>\n",
       "      <th>Name</th>\n",
       "      <th>Date</th>\n",
       "      <th>Departure</th>\n",
       "      <th>Arrival</th>\n",
       "      <th>Source</th>\n",
       "      <th>Destination</th>\n",
       "      <th>Stops</th>\n",
       "      <th>Duration</th>\n",
       "      <th>Price</th>\n",
       "      <th>Dep_time_hours</th>\n",
       "      <th>Dep_time_min</th>\n",
       "      <th>Duration_hours</th>\n",
       "      <th>Duration_min</th>\n",
       "      <th>Arrival_time_hours</th>\n",
       "      <th>Arrival_time_min</th>\n",
       "      <th>day</th>\n",
       "      <th>month</th>\n",
       "    </tr>\n",
       "  </thead>\n",
       "  <tbody>\n",
       "    <tr>\n",
       "      <th>0</th>\n",
       "      <td>IndiGo</td>\n",
       "      <td>24-Jan</td>\n",
       "      <td>22:40</td>\n",
       "      <td>01:30 + 1 day</td>\n",
       "      <td>New Delhi</td>\n",
       "      <td>Chennai</td>\n",
       "      <td>0</td>\n",
       "      <td>2h 50m</td>\n",
       "      <td>2341</td>\n",
       "      <td>22</td>\n",
       "      <td>40</td>\n",
       "      <td>2</td>\n",
       "      <td>50</td>\n",
       "      <td>01</td>\n",
       "      <td>30</td>\n",
       "      <td>24</td>\n",
       "      <td>1</td>\n",
       "    </tr>\n",
       "    <tr>\n",
       "      <th>1</th>\n",
       "      <td>IndiGo</td>\n",
       "      <td>24-Jan</td>\n",
       "      <td>3:00</td>\n",
       "      <td>5:55</td>\n",
       "      <td>New Delhi</td>\n",
       "      <td>Chennai</td>\n",
       "      <td>0</td>\n",
       "      <td>2h 55m</td>\n",
       "      <td>2341</td>\n",
       "      <td>3</td>\n",
       "      <td>00</td>\n",
       "      <td>2</td>\n",
       "      <td>55</td>\n",
       "      <td>5</td>\n",
       "      <td>55</td>\n",
       "      <td>24</td>\n",
       "      <td>1</td>\n",
       "    </tr>\n",
       "    <tr>\n",
       "      <th>2</th>\n",
       "      <td>IndiGo</td>\n",
       "      <td>24-Jan</td>\n",
       "      <td>8:35</td>\n",
       "      <td>11:30</td>\n",
       "      <td>New Delhi</td>\n",
       "      <td>Chennai</td>\n",
       "      <td>0</td>\n",
       "      <td>2h 55m</td>\n",
       "      <td>2341</td>\n",
       "      <td>8</td>\n",
       "      <td>35</td>\n",
       "      <td>2</td>\n",
       "      <td>55</td>\n",
       "      <td>11</td>\n",
       "      <td>30</td>\n",
       "      <td>24</td>\n",
       "      <td>1</td>\n",
       "    </tr>\n",
       "    <tr>\n",
       "      <th>3</th>\n",
       "      <td>IndiGo</td>\n",
       "      <td>24-Jan</td>\n",
       "      <td>20:15</td>\n",
       "      <td>23:10</td>\n",
       "      <td>New Delhi</td>\n",
       "      <td>Chennai</td>\n",
       "      <td>0</td>\n",
       "      <td>2h 55m</td>\n",
       "      <td>2341</td>\n",
       "      <td>20</td>\n",
       "      <td>15</td>\n",
       "      <td>2</td>\n",
       "      <td>55</td>\n",
       "      <td>23</td>\n",
       "      <td>10</td>\n",
       "      <td>24</td>\n",
       "      <td>1</td>\n",
       "    </tr>\n",
       "    <tr>\n",
       "      <th>4</th>\n",
       "      <td>IndiGo</td>\n",
       "      <td>24-Jan</td>\n",
       "      <td>9:50</td>\n",
       "      <td>12:50</td>\n",
       "      <td>New Delhi</td>\n",
       "      <td>Chennai</td>\n",
       "      <td>0</td>\n",
       "      <td>3h 00m</td>\n",
       "      <td>2341</td>\n",
       "      <td>9</td>\n",
       "      <td>50</td>\n",
       "      <td>3</td>\n",
       "      <td>00</td>\n",
       "      <td>12</td>\n",
       "      <td>50</td>\n",
       "      <td>24</td>\n",
       "      <td>1</td>\n",
       "    </tr>\n",
       "  </tbody>\n",
       "</table>\n",
       "</div>"
      ],
      "text/plain": [
       "     Name    Date Departure        Arrival     Source Destination  Stops  \\\n",
       "0  IndiGo  24-Jan     22:40  01:30 + 1 day  New Delhi     Chennai      0   \n",
       "1  IndiGo  24-Jan      3:00           5:55  New Delhi     Chennai      0   \n",
       "2  IndiGo  24-Jan      8:35          11:30  New Delhi     Chennai      0   \n",
       "3  IndiGo  24-Jan     20:15          23:10  New Delhi     Chennai      0   \n",
       "4  IndiGo  24-Jan      9:50          12:50  New Delhi     Chennai      0   \n",
       "\n",
       "  Duration  Price Dep_time_hours Dep_time_min Duration_hours Duration_min  \\\n",
       "0   2h 50m   2341             22           40              2           50   \n",
       "1   2h 55m   2341              3           00              2           55   \n",
       "2   2h 55m   2341              8           35              2           55   \n",
       "3   2h 55m   2341             20           15              2           55   \n",
       "4   3h 00m   2341              9           50              3           00   \n",
       "\n",
       "  Arrival_time_hours Arrival_time_min day  month  \n",
       "0                 01              30   24      1  \n",
       "1                  5               55  24      1  \n",
       "2                 11               30  24      1  \n",
       "3                 23               10  24      1  \n",
       "4                 12               50  24      1  "
      ]
     },
     "execution_count": 34,
     "metadata": {},
     "output_type": "execute_result"
    }
   ],
   "source": [
    "# Encoding Total_Stops Column\n",
    "data[\"Stops\"]=data[\"Stops\"].replace({'Non Stop':0,'1 Stop':1,'2 Stop(s)':2,'3 Stop(s)':3,'4 Stop(s)':4})\n",
    "data.head()"
   ]
  },
  {
   "cell_type": "code",
   "execution_count": 35,
   "metadata": {},
   "outputs": [],
   "source": [
    "data.drop(columns=[\"Date\",\"Departure\",\"Arrival\",\"Duration\"],inplace=True)"
   ]
  },
  {
   "cell_type": "code",
   "execution_count": 36,
   "metadata": {},
   "outputs": [
    {
     "name": "stdout",
     "output_type": "stream",
     "text": [
      "<class 'pandas.core.frame.DataFrame'>\n",
      "Int64Index: 1875 entries, 0 to 1874\n",
      "Data columns (total 13 columns):\n",
      " #   Column              Non-Null Count  Dtype \n",
      "---  ------              --------------  ----- \n",
      " 0   Name                1875 non-null   object\n",
      " 1   Source              1875 non-null   object\n",
      " 2   Destination         1875 non-null   object\n",
      " 3   Stops               1875 non-null   int64 \n",
      " 4   Price               1875 non-null   int32 \n",
      " 5   Dep_time_hours      1875 non-null   object\n",
      " 6   Dep_time_min        1875 non-null   object\n",
      " 7   Duration_hours      1875 non-null   object\n",
      " 8   Duration_min        1875 non-null   object\n",
      " 9   Arrival_time_hours  1875 non-null   object\n",
      " 10  Arrival_time_min    1875 non-null   object\n",
      " 11  day                 1875 non-null   object\n",
      " 12  month               1875 non-null   int64 \n",
      "dtypes: int32(1), int64(2), object(10)\n",
      "memory usage: 262.3+ KB\n"
     ]
    }
   ],
   "source": [
    "data.info()"
   ]
  },
  {
   "cell_type": "code",
   "execution_count": 37,
   "metadata": {},
   "outputs": [
    {
     "data": {
      "text/plain": [
       "Name                  object\n",
       "Source                object\n",
       "Destination           object\n",
       "Stops                  int64\n",
       "Price                  int32\n",
       "Dep_time_hours         int32\n",
       "Dep_time_min           int32\n",
       "Duration_hours         int32\n",
       "Duration_min           int32\n",
       "Arrival_time_hours     int32\n",
       "Arrival_time_min       int32\n",
       "day                    int32\n",
       "month                  int64\n",
       "dtype: object"
      ]
     },
     "execution_count": 37,
     "metadata": {},
     "output_type": "execute_result"
    }
   ],
   "source": [
    "df_type_dict={'Dep_time_hours':int,'Dep_time_min':int,'Duration_hours':int,'Duration_min':int,\n",
    "              'Arrival_time_hours':int,'Arrival_time_min':int,'day':int}\n",
    "data=data.astype(df_type_dict)\n",
    "data.dtypes"
   ]
  },
  {
   "cell_type": "code",
   "execution_count": 38,
   "metadata": {},
   "outputs": [
    {
     "data": {
      "text/html": [
       "<div>\n",
       "<style scoped>\n",
       "    .dataframe tbody tr th:only-of-type {\n",
       "        vertical-align: middle;\n",
       "    }\n",
       "\n",
       "    .dataframe tbody tr th {\n",
       "        vertical-align: top;\n",
       "    }\n",
       "\n",
       "    .dataframe thead th {\n",
       "        text-align: right;\n",
       "    }\n",
       "</style>\n",
       "<table border=\"1\" class=\"dataframe\">\n",
       "  <thead>\n",
       "    <tr style=\"text-align: right;\">\n",
       "      <th></th>\n",
       "      <th>Dep_time_hours</th>\n",
       "      <th>Dep_time_min</th>\n",
       "      <th>Duration_hours</th>\n",
       "      <th>Duration_min</th>\n",
       "      <th>Arrival_time_hours</th>\n",
       "      <th>Arrival_time_min</th>\n",
       "      <th>day</th>\n",
       "      <th>month</th>\n",
       "    </tr>\n",
       "  </thead>\n",
       "  <tbody>\n",
       "    <tr>\n",
       "      <th>0</th>\n",
       "      <td>22</td>\n",
       "      <td>40</td>\n",
       "      <td>2</td>\n",
       "      <td>50</td>\n",
       "      <td>01</td>\n",
       "      <td>30</td>\n",
       "      <td>24</td>\n",
       "      <td>1</td>\n",
       "    </tr>\n",
       "    <tr>\n",
       "      <th>1</th>\n",
       "      <td>3</td>\n",
       "      <td>00</td>\n",
       "      <td>2</td>\n",
       "      <td>55</td>\n",
       "      <td>5</td>\n",
       "      <td>55</td>\n",
       "      <td>24</td>\n",
       "      <td>1</td>\n",
       "    </tr>\n",
       "    <tr>\n",
       "      <th>2</th>\n",
       "      <td>8</td>\n",
       "      <td>35</td>\n",
       "      <td>2</td>\n",
       "      <td>55</td>\n",
       "      <td>11</td>\n",
       "      <td>30</td>\n",
       "      <td>24</td>\n",
       "      <td>1</td>\n",
       "    </tr>\n",
       "    <tr>\n",
       "      <th>3</th>\n",
       "      <td>20</td>\n",
       "      <td>15</td>\n",
       "      <td>2</td>\n",
       "      <td>55</td>\n",
       "      <td>23</td>\n",
       "      <td>10</td>\n",
       "      <td>24</td>\n",
       "      <td>1</td>\n",
       "    </tr>\n",
       "    <tr>\n",
       "      <th>4</th>\n",
       "      <td>9</td>\n",
       "      <td>50</td>\n",
       "      <td>3</td>\n",
       "      <td>00</td>\n",
       "      <td>12</td>\n",
       "      <td>50</td>\n",
       "      <td>24</td>\n",
       "      <td>1</td>\n",
       "    </tr>\n",
       "  </tbody>\n",
       "</table>\n",
       "</div>"
      ],
      "text/plain": [
       "  Dep_time_hours Dep_time_min Duration_hours Duration_min Arrival_time_hours  \\\n",
       "0             22           40              2           50                 01   \n",
       "1              3           00              2           55                  5   \n",
       "2              8           35              2           55                 11   \n",
       "3             20           15              2           55                 23   \n",
       "4              9           50              3           00                 12   \n",
       "\n",
       "  Arrival_time_min day  month  \n",
       "0              30   24      1  \n",
       "1               55  24      1  \n",
       "2               30  24      1  \n",
       "3               10  24      1  \n",
       "4               50  24      1  "
      ]
     },
     "execution_count": 38,
     "metadata": {},
     "output_type": "execute_result"
    }
   ],
   "source": [
    "time.head()"
   ]
  },
  {
   "cell_type": "markdown",
   "metadata": {},
   "source": [
    "Since we know price of flight varies on number of days before it is booked we will calculate number of days from todays date."
   ]
  },
  {
   "cell_type": "code",
   "execution_count": 39,
   "metadata": {},
   "outputs": [
    {
     "data": {
      "text/plain": [
       "11    744\n",
       "1     703\n",
       "12    428\n",
       "Name: month, dtype: int64"
      ]
     },
     "execution_count": 39,
     "metadata": {},
     "output_type": "execute_result"
    }
   ],
   "source": [
    "data[\"month\"].value_counts()"
   ]
  },
  {
   "cell_type": "code",
   "execution_count": 40,
   "metadata": {},
   "outputs": [],
   "source": [
    "for i in data[\"month\"]:\n",
    "    if i==1:\n",
    "        data[\"Number_of_days\"]=(data[\"day\"]+31+4+30)\n",
    "    elif i==12:\n",
    "        data[\"Number_of_days\"]=(data[\"day\"]+30+4)\n",
    "    elif i==11:\n",
    "        data[\"Number_of_days\"]=(data[\"day\"]+4)\n",
    "    else:\n",
    "        print(\"Add another condition\")"
   ]
  },
  {
   "cell_type": "code",
   "execution_count": 41,
   "metadata": {},
   "outputs": [],
   "source": [
    "#introducing a new column total duration\n",
    "data[\"Total_duration\"]=data[\"Duration_hours\"]*60+data[\"Duration_min\"]"
   ]
  },
  {
   "cell_type": "code",
   "execution_count": 42,
   "metadata": {},
   "outputs": [
    {
     "data": {
      "text/html": [
       "<div>\n",
       "<style scoped>\n",
       "    .dataframe tbody tr th:only-of-type {\n",
       "        vertical-align: middle;\n",
       "    }\n",
       "\n",
       "    .dataframe tbody tr th {\n",
       "        vertical-align: top;\n",
       "    }\n",
       "\n",
       "    .dataframe thead th {\n",
       "        text-align: right;\n",
       "    }\n",
       "</style>\n",
       "<table border=\"1\" class=\"dataframe\">\n",
       "  <thead>\n",
       "    <tr style=\"text-align: right;\">\n",
       "      <th></th>\n",
       "      <th>Name</th>\n",
       "      <th>Source</th>\n",
       "      <th>Destination</th>\n",
       "      <th>Stops</th>\n",
       "      <th>Price</th>\n",
       "      <th>Dep_time_hours</th>\n",
       "      <th>Dep_time_min</th>\n",
       "      <th>Duration_hours</th>\n",
       "      <th>Duration_min</th>\n",
       "      <th>Arrival_time_hours</th>\n",
       "      <th>Arrival_time_min</th>\n",
       "      <th>day</th>\n",
       "      <th>month</th>\n",
       "      <th>Number_of_days</th>\n",
       "      <th>Total_duration</th>\n",
       "    </tr>\n",
       "  </thead>\n",
       "  <tbody>\n",
       "    <tr>\n",
       "      <th>0</th>\n",
       "      <td>IndiGo</td>\n",
       "      <td>New Delhi</td>\n",
       "      <td>Chennai</td>\n",
       "      <td>0</td>\n",
       "      <td>2341</td>\n",
       "      <td>22</td>\n",
       "      <td>40</td>\n",
       "      <td>2</td>\n",
       "      <td>50</td>\n",
       "      <td>1</td>\n",
       "      <td>30</td>\n",
       "      <td>24</td>\n",
       "      <td>1</td>\n",
       "      <td>89</td>\n",
       "      <td>170</td>\n",
       "    </tr>\n",
       "    <tr>\n",
       "      <th>1</th>\n",
       "      <td>IndiGo</td>\n",
       "      <td>New Delhi</td>\n",
       "      <td>Chennai</td>\n",
       "      <td>0</td>\n",
       "      <td>2341</td>\n",
       "      <td>3</td>\n",
       "      <td>0</td>\n",
       "      <td>2</td>\n",
       "      <td>55</td>\n",
       "      <td>5</td>\n",
       "      <td>55</td>\n",
       "      <td>24</td>\n",
       "      <td>1</td>\n",
       "      <td>89</td>\n",
       "      <td>175</td>\n",
       "    </tr>\n",
       "    <tr>\n",
       "      <th>2</th>\n",
       "      <td>IndiGo</td>\n",
       "      <td>New Delhi</td>\n",
       "      <td>Chennai</td>\n",
       "      <td>0</td>\n",
       "      <td>2341</td>\n",
       "      <td>8</td>\n",
       "      <td>35</td>\n",
       "      <td>2</td>\n",
       "      <td>55</td>\n",
       "      <td>11</td>\n",
       "      <td>30</td>\n",
       "      <td>24</td>\n",
       "      <td>1</td>\n",
       "      <td>89</td>\n",
       "      <td>175</td>\n",
       "    </tr>\n",
       "    <tr>\n",
       "      <th>3</th>\n",
       "      <td>IndiGo</td>\n",
       "      <td>New Delhi</td>\n",
       "      <td>Chennai</td>\n",
       "      <td>0</td>\n",
       "      <td>2341</td>\n",
       "      <td>20</td>\n",
       "      <td>15</td>\n",
       "      <td>2</td>\n",
       "      <td>55</td>\n",
       "      <td>23</td>\n",
       "      <td>10</td>\n",
       "      <td>24</td>\n",
       "      <td>1</td>\n",
       "      <td>89</td>\n",
       "      <td>175</td>\n",
       "    </tr>\n",
       "    <tr>\n",
       "      <th>4</th>\n",
       "      <td>IndiGo</td>\n",
       "      <td>New Delhi</td>\n",
       "      <td>Chennai</td>\n",
       "      <td>0</td>\n",
       "      <td>2341</td>\n",
       "      <td>9</td>\n",
       "      <td>50</td>\n",
       "      <td>3</td>\n",
       "      <td>0</td>\n",
       "      <td>12</td>\n",
       "      <td>50</td>\n",
       "      <td>24</td>\n",
       "      <td>1</td>\n",
       "      <td>89</td>\n",
       "      <td>180</td>\n",
       "    </tr>\n",
       "  </tbody>\n",
       "</table>\n",
       "</div>"
      ],
      "text/plain": [
       "     Name     Source Destination  Stops  Price  Dep_time_hours  Dep_time_min  \\\n",
       "0  IndiGo  New Delhi     Chennai      0   2341              22            40   \n",
       "1  IndiGo  New Delhi     Chennai      0   2341               3             0   \n",
       "2  IndiGo  New Delhi     Chennai      0   2341               8            35   \n",
       "3  IndiGo  New Delhi     Chennai      0   2341              20            15   \n",
       "4  IndiGo  New Delhi     Chennai      0   2341               9            50   \n",
       "\n",
       "   Duration_hours  Duration_min  Arrival_time_hours  Arrival_time_min  day  \\\n",
       "0               2            50                   1                30   24   \n",
       "1               2            55                   5                55   24   \n",
       "2               2            55                  11                30   24   \n",
       "3               2            55                  23                10   24   \n",
       "4               3             0                  12                50   24   \n",
       "\n",
       "   month  Number_of_days  Total_duration  \n",
       "0      1              89             170  \n",
       "1      1              89             175  \n",
       "2      1              89             175  \n",
       "3      1              89             175  \n",
       "4      1              89             180  "
      ]
     },
     "execution_count": 42,
     "metadata": {},
     "output_type": "execute_result"
    }
   ],
   "source": [
    "data.head()"
   ]
  },
  {
   "cell_type": "code",
   "execution_count": 43,
   "metadata": {},
   "outputs": [
    {
     "data": {
      "text/plain": [
       "(1875, 15)"
      ]
     },
     "execution_count": 43,
     "metadata": {},
     "output_type": "execute_result"
    }
   ],
   "source": [
    "data.shape"
   ]
  },
  {
   "cell_type": "markdown",
   "metadata": {},
   "source": [
    "Data now consists of 1875 rows and 15 columns. We will now move forward to encode name columns present in data using Label Encoder."
   ]
  },
  {
   "cell_type": "code",
   "execution_count": 44,
   "metadata": {},
   "outputs": [
    {
     "data": {
      "text/html": [
       "<div>\n",
       "<style scoped>\n",
       "    .dataframe tbody tr th:only-of-type {\n",
       "        vertical-align: middle;\n",
       "    }\n",
       "\n",
       "    .dataframe tbody tr th {\n",
       "        vertical-align: top;\n",
       "    }\n",
       "\n",
       "    .dataframe thead th {\n",
       "        text-align: right;\n",
       "    }\n",
       "</style>\n",
       "<table border=\"1\" class=\"dataframe\">\n",
       "  <thead>\n",
       "    <tr style=\"text-align: right;\">\n",
       "      <th></th>\n",
       "      <th>Name</th>\n",
       "      <th>Source</th>\n",
       "      <th>Destination</th>\n",
       "      <th>Stops</th>\n",
       "      <th>Price</th>\n",
       "      <th>Dep_time_hours</th>\n",
       "      <th>Dep_time_min</th>\n",
       "      <th>Duration_hours</th>\n",
       "      <th>Duration_min</th>\n",
       "      <th>Arrival_time_hours</th>\n",
       "      <th>Arrival_time_min</th>\n",
       "      <th>day</th>\n",
       "      <th>month</th>\n",
       "      <th>Number_of_days</th>\n",
       "      <th>Total_duration</th>\n",
       "    </tr>\n",
       "  </thead>\n",
       "  <tbody>\n",
       "    <tr>\n",
       "      <th>0</th>\n",
       "      <td>3</td>\n",
       "      <td>6</td>\n",
       "      <td>3</td>\n",
       "      <td>0</td>\n",
       "      <td>2341</td>\n",
       "      <td>22</td>\n",
       "      <td>40</td>\n",
       "      <td>2</td>\n",
       "      <td>50</td>\n",
       "      <td>1</td>\n",
       "      <td>30</td>\n",
       "      <td>24</td>\n",
       "      <td>1</td>\n",
       "      <td>89</td>\n",
       "      <td>170</td>\n",
       "    </tr>\n",
       "    <tr>\n",
       "      <th>1</th>\n",
       "      <td>3</td>\n",
       "      <td>6</td>\n",
       "      <td>3</td>\n",
       "      <td>0</td>\n",
       "      <td>2341</td>\n",
       "      <td>3</td>\n",
       "      <td>0</td>\n",
       "      <td>2</td>\n",
       "      <td>55</td>\n",
       "      <td>5</td>\n",
       "      <td>55</td>\n",
       "      <td>24</td>\n",
       "      <td>1</td>\n",
       "      <td>89</td>\n",
       "      <td>175</td>\n",
       "    </tr>\n",
       "    <tr>\n",
       "      <th>2</th>\n",
       "      <td>3</td>\n",
       "      <td>6</td>\n",
       "      <td>3</td>\n",
       "      <td>0</td>\n",
       "      <td>2341</td>\n",
       "      <td>8</td>\n",
       "      <td>35</td>\n",
       "      <td>2</td>\n",
       "      <td>55</td>\n",
       "      <td>11</td>\n",
       "      <td>30</td>\n",
       "      <td>24</td>\n",
       "      <td>1</td>\n",
       "      <td>89</td>\n",
       "      <td>175</td>\n",
       "    </tr>\n",
       "    <tr>\n",
       "      <th>3</th>\n",
       "      <td>3</td>\n",
       "      <td>6</td>\n",
       "      <td>3</td>\n",
       "      <td>0</td>\n",
       "      <td>2341</td>\n",
       "      <td>20</td>\n",
       "      <td>15</td>\n",
       "      <td>2</td>\n",
       "      <td>55</td>\n",
       "      <td>23</td>\n",
       "      <td>10</td>\n",
       "      <td>24</td>\n",
       "      <td>1</td>\n",
       "      <td>89</td>\n",
       "      <td>175</td>\n",
       "    </tr>\n",
       "    <tr>\n",
       "      <th>4</th>\n",
       "      <td>3</td>\n",
       "      <td>6</td>\n",
       "      <td>3</td>\n",
       "      <td>0</td>\n",
       "      <td>2341</td>\n",
       "      <td>9</td>\n",
       "      <td>50</td>\n",
       "      <td>3</td>\n",
       "      <td>0</td>\n",
       "      <td>12</td>\n",
       "      <td>50</td>\n",
       "      <td>24</td>\n",
       "      <td>1</td>\n",
       "      <td>89</td>\n",
       "      <td>180</td>\n",
       "    </tr>\n",
       "  </tbody>\n",
       "</table>\n",
       "</div>"
      ],
      "text/plain": [
       "   Name  Source  Destination  Stops  Price  Dep_time_hours  Dep_time_min  \\\n",
       "0     3       6            3      0   2341              22            40   \n",
       "1     3       6            3      0   2341               3             0   \n",
       "2     3       6            3      0   2341               8            35   \n",
       "3     3       6            3      0   2341              20            15   \n",
       "4     3       6            3      0   2341               9            50   \n",
       "\n",
       "   Duration_hours  Duration_min  Arrival_time_hours  Arrival_time_min  day  \\\n",
       "0               2            50                   1                30   24   \n",
       "1               2            55                   5                55   24   \n",
       "2               2            55                  11                30   24   \n",
       "3               2            55                  23                10   24   \n",
       "4               3             0                  12                50   24   \n",
       "\n",
       "   month  Number_of_days  Total_duration  \n",
       "0      1              89             170  \n",
       "1      1              89             175  \n",
       "2      1              89             175  \n",
       "3      1              89             175  \n",
       "4      1              89             180  "
      ]
     },
     "execution_count": 44,
     "metadata": {},
     "output_type": "execute_result"
    }
   ],
   "source": [
    "lab_enc=LabelEncoder()\n",
    "cols=[\"Name\", \"Source\", \"Destination\"]\n",
    "for i in cols:\n",
    "    df1= lab_enc.fit_transform(data[i])\n",
    "    data[i]=df1\n",
    "data.head()"
   ]
  },
  {
   "cell_type": "markdown",
   "metadata": {},
   "source": [
    "### Check for correlation"
   ]
  },
  {
   "cell_type": "code",
   "execution_count": 45,
   "metadata": {},
   "outputs": [
    {
     "data": {
      "text/html": [
       "<div>\n",
       "<style scoped>\n",
       "    .dataframe tbody tr th:only-of-type {\n",
       "        vertical-align: middle;\n",
       "    }\n",
       "\n",
       "    .dataframe tbody tr th {\n",
       "        vertical-align: top;\n",
       "    }\n",
       "\n",
       "    .dataframe thead th {\n",
       "        text-align: right;\n",
       "    }\n",
       "</style>\n",
       "<table border=\"1\" class=\"dataframe\">\n",
       "  <thead>\n",
       "    <tr style=\"text-align: right;\">\n",
       "      <th></th>\n",
       "      <th>Name</th>\n",
       "      <th>Source</th>\n",
       "      <th>Destination</th>\n",
       "      <th>Stops</th>\n",
       "      <th>Price</th>\n",
       "      <th>Dep_time_hours</th>\n",
       "      <th>Dep_time_min</th>\n",
       "      <th>Duration_hours</th>\n",
       "      <th>Duration_min</th>\n",
       "      <th>Arrival_time_hours</th>\n",
       "      <th>Arrival_time_min</th>\n",
       "      <th>day</th>\n",
       "      <th>month</th>\n",
       "      <th>Number_of_days</th>\n",
       "      <th>Total_duration</th>\n",
       "    </tr>\n",
       "  </thead>\n",
       "  <tbody>\n",
       "    <tr>\n",
       "      <th>Name</th>\n",
       "      <td>1.000000</td>\n",
       "      <td>0.012011</td>\n",
       "      <td>0.086426</td>\n",
       "      <td>-0.012724</td>\n",
       "      <td>0.049375</td>\n",
       "      <td>0.002984</td>\n",
       "      <td>0.029903</td>\n",
       "      <td>0.063044</td>\n",
       "      <td>-0.007177</td>\n",
       "      <td>0.084133</td>\n",
       "      <td>0.052620</td>\n",
       "      <td>0.104167</td>\n",
       "      <td>0.015470</td>\n",
       "      <td>0.104167</td>\n",
       "      <td>0.062604</td>\n",
       "    </tr>\n",
       "    <tr>\n",
       "      <th>Source</th>\n",
       "      <td>0.012011</td>\n",
       "      <td>1.000000</td>\n",
       "      <td>-0.216163</td>\n",
       "      <td>-0.174552</td>\n",
       "      <td>-0.498705</td>\n",
       "      <td>0.020732</td>\n",
       "      <td>-0.034239</td>\n",
       "      <td>-0.076989</td>\n",
       "      <td>-0.078893</td>\n",
       "      <td>-0.069235</td>\n",
       "      <td>0.017983</td>\n",
       "      <td>0.104426</td>\n",
       "      <td>-0.354967</td>\n",
       "      <td>0.104426</td>\n",
       "      <td>-0.080237</td>\n",
       "    </tr>\n",
       "    <tr>\n",
       "      <th>Destination</th>\n",
       "      <td>0.086426</td>\n",
       "      <td>-0.216163</td>\n",
       "      <td>1.000000</td>\n",
       "      <td>0.045637</td>\n",
       "      <td>0.239752</td>\n",
       "      <td>-0.061705</td>\n",
       "      <td>0.036615</td>\n",
       "      <td>0.113240</td>\n",
       "      <td>-0.045060</td>\n",
       "      <td>-0.025018</td>\n",
       "      <td>-0.068256</td>\n",
       "      <td>-0.271009</td>\n",
       "      <td>0.034060</td>\n",
       "      <td>-0.271009</td>\n",
       "      <td>0.111062</td>\n",
       "    </tr>\n",
       "    <tr>\n",
       "      <th>Stops</th>\n",
       "      <td>-0.012724</td>\n",
       "      <td>-0.174552</td>\n",
       "      <td>0.045637</td>\n",
       "      <td>1.000000</td>\n",
       "      <td>0.522638</td>\n",
       "      <td>-0.068450</td>\n",
       "      <td>-0.000023</td>\n",
       "      <td>0.683791</td>\n",
       "      <td>0.039989</td>\n",
       "      <td>0.103011</td>\n",
       "      <td>-0.011096</td>\n",
       "      <td>-0.060707</td>\n",
       "      <td>-0.079346</td>\n",
       "      <td>-0.060707</td>\n",
       "      <td>0.684110</td>\n",
       "    </tr>\n",
       "    <tr>\n",
       "      <th>Price</th>\n",
       "      <td>0.049375</td>\n",
       "      <td>-0.498705</td>\n",
       "      <td>0.239752</td>\n",
       "      <td>0.522638</td>\n",
       "      <td>1.000000</td>\n",
       "      <td>-0.101846</td>\n",
       "      <td>0.045445</td>\n",
       "      <td>0.390491</td>\n",
       "      <td>0.077265</td>\n",
       "      <td>0.073045</td>\n",
       "      <td>-0.016928</td>\n",
       "      <td>-0.360991</td>\n",
       "      <td>0.178698</td>\n",
       "      <td>-0.360991</td>\n",
       "      <td>0.393024</td>\n",
       "    </tr>\n",
       "    <tr>\n",
       "      <th>Dep_time_hours</th>\n",
       "      <td>0.002984</td>\n",
       "      <td>0.020732</td>\n",
       "      <td>-0.061705</td>\n",
       "      <td>-0.068450</td>\n",
       "      <td>-0.101846</td>\n",
       "      <td>1.000000</td>\n",
       "      <td>0.011187</td>\n",
       "      <td>0.003661</td>\n",
       "      <td>-0.021645</td>\n",
       "      <td>0.072706</td>\n",
       "      <td>-0.023270</td>\n",
       "      <td>-0.003273</td>\n",
       "      <td>0.053439</td>\n",
       "      <td>-0.003273</td>\n",
       "      <td>0.002719</td>\n",
       "    </tr>\n",
       "    <tr>\n",
       "      <th>Dep_time_min</th>\n",
       "      <td>0.029903</td>\n",
       "      <td>-0.034239</td>\n",
       "      <td>0.036615</td>\n",
       "      <td>-0.000023</td>\n",
       "      <td>0.045445</td>\n",
       "      <td>0.011187</td>\n",
       "      <td>1.000000</td>\n",
       "      <td>0.003760</td>\n",
       "      <td>-0.041540</td>\n",
       "      <td>-0.061554</td>\n",
       "      <td>-0.022913</td>\n",
       "      <td>0.011813</td>\n",
       "      <td>0.056419</td>\n",
       "      <td>0.011813</td>\n",
       "      <td>0.001958</td>\n",
       "    </tr>\n",
       "    <tr>\n",
       "      <th>Duration_hours</th>\n",
       "      <td>0.063044</td>\n",
       "      <td>-0.076989</td>\n",
       "      <td>0.113240</td>\n",
       "      <td>0.683791</td>\n",
       "      <td>0.390491</td>\n",
       "      <td>0.003661</td>\n",
       "      <td>0.003760</td>\n",
       "      <td>1.000000</td>\n",
       "      <td>0.026085</td>\n",
       "      <td>0.006110</td>\n",
       "      <td>0.023424</td>\n",
       "      <td>-0.096733</td>\n",
       "      <td>-0.100906</td>\n",
       "      <td>-0.096733</td>\n",
       "      <td>0.999068</td>\n",
       "    </tr>\n",
       "    <tr>\n",
       "      <th>Duration_min</th>\n",
       "      <td>-0.007177</td>\n",
       "      <td>-0.078893</td>\n",
       "      <td>-0.045060</td>\n",
       "      <td>0.039989</td>\n",
       "      <td>0.077265</td>\n",
       "      <td>-0.021645</td>\n",
       "      <td>-0.041540</td>\n",
       "      <td>0.026085</td>\n",
       "      <td>1.000000</td>\n",
       "      <td>0.025817</td>\n",
       "      <td>0.010820</td>\n",
       "      <td>-0.057034</td>\n",
       "      <td>0.015098</td>\n",
       "      <td>-0.057034</td>\n",
       "      <td>0.069210</td>\n",
       "    </tr>\n",
       "    <tr>\n",
       "      <th>Arrival_time_hours</th>\n",
       "      <td>0.084133</td>\n",
       "      <td>-0.069235</td>\n",
       "      <td>-0.025018</td>\n",
       "      <td>0.103011</td>\n",
       "      <td>0.073045</td>\n",
       "      <td>0.072706</td>\n",
       "      <td>-0.061554</td>\n",
       "      <td>0.006110</td>\n",
       "      <td>0.025817</td>\n",
       "      <td>1.000000</td>\n",
       "      <td>0.003181</td>\n",
       "      <td>-0.004045</td>\n",
       "      <td>0.069432</td>\n",
       "      <td>-0.004045</td>\n",
       "      <td>0.007212</td>\n",
       "    </tr>\n",
       "    <tr>\n",
       "      <th>Arrival_time_min</th>\n",
       "      <td>0.052620</td>\n",
       "      <td>0.017983</td>\n",
       "      <td>-0.068256</td>\n",
       "      <td>-0.011096</td>\n",
       "      <td>-0.016928</td>\n",
       "      <td>-0.023270</td>\n",
       "      <td>-0.022913</td>\n",
       "      <td>0.023424</td>\n",
       "      <td>0.010820</td>\n",
       "      <td>0.003181</td>\n",
       "      <td>1.000000</td>\n",
       "      <td>0.021490</td>\n",
       "      <td>-0.016881</td>\n",
       "      <td>0.021490</td>\n",
       "      <td>0.023843</td>\n",
       "    </tr>\n",
       "    <tr>\n",
       "      <th>day</th>\n",
       "      <td>0.104167</td>\n",
       "      <td>0.104426</td>\n",
       "      <td>-0.271009</td>\n",
       "      <td>-0.060707</td>\n",
       "      <td>-0.360991</td>\n",
       "      <td>-0.003273</td>\n",
       "      <td>0.011813</td>\n",
       "      <td>-0.096733</td>\n",
       "      <td>-0.057034</td>\n",
       "      <td>-0.004045</td>\n",
       "      <td>0.021490</td>\n",
       "      <td>1.000000</td>\n",
       "      <td>0.061244</td>\n",
       "      <td>1.000000</td>\n",
       "      <td>-0.098997</td>\n",
       "    </tr>\n",
       "    <tr>\n",
       "      <th>month</th>\n",
       "      <td>0.015470</td>\n",
       "      <td>-0.354967</td>\n",
       "      <td>0.034060</td>\n",
       "      <td>-0.079346</td>\n",
       "      <td>0.178698</td>\n",
       "      <td>0.053439</td>\n",
       "      <td>0.056419</td>\n",
       "      <td>-0.100906</td>\n",
       "      <td>0.015098</td>\n",
       "      <td>0.069432</td>\n",
       "      <td>-0.016881</td>\n",
       "      <td>0.061244</td>\n",
       "      <td>1.000000</td>\n",
       "      <td>0.061244</td>\n",
       "      <td>-0.100046</td>\n",
       "    </tr>\n",
       "    <tr>\n",
       "      <th>Number_of_days</th>\n",
       "      <td>0.104167</td>\n",
       "      <td>0.104426</td>\n",
       "      <td>-0.271009</td>\n",
       "      <td>-0.060707</td>\n",
       "      <td>-0.360991</td>\n",
       "      <td>-0.003273</td>\n",
       "      <td>0.011813</td>\n",
       "      <td>-0.096733</td>\n",
       "      <td>-0.057034</td>\n",
       "      <td>-0.004045</td>\n",
       "      <td>0.021490</td>\n",
       "      <td>1.000000</td>\n",
       "      <td>0.061244</td>\n",
       "      <td>1.000000</td>\n",
       "      <td>-0.098997</td>\n",
       "    </tr>\n",
       "    <tr>\n",
       "      <th>Total_duration</th>\n",
       "      <td>0.062604</td>\n",
       "      <td>-0.080237</td>\n",
       "      <td>0.111062</td>\n",
       "      <td>0.684110</td>\n",
       "      <td>0.393024</td>\n",
       "      <td>0.002719</td>\n",
       "      <td>0.001958</td>\n",
       "      <td>0.999068</td>\n",
       "      <td>0.069210</td>\n",
       "      <td>0.007212</td>\n",
       "      <td>0.023843</td>\n",
       "      <td>-0.098997</td>\n",
       "      <td>-0.100046</td>\n",
       "      <td>-0.098997</td>\n",
       "      <td>1.000000</td>\n",
       "    </tr>\n",
       "  </tbody>\n",
       "</table>\n",
       "</div>"
      ],
      "text/plain": [
       "                        Name    Source  Destination     Stops     Price  \\\n",
       "Name                1.000000  0.012011     0.086426 -0.012724  0.049375   \n",
       "Source              0.012011  1.000000    -0.216163 -0.174552 -0.498705   \n",
       "Destination         0.086426 -0.216163     1.000000  0.045637  0.239752   \n",
       "Stops              -0.012724 -0.174552     0.045637  1.000000  0.522638   \n",
       "Price               0.049375 -0.498705     0.239752  0.522638  1.000000   \n",
       "Dep_time_hours      0.002984  0.020732    -0.061705 -0.068450 -0.101846   \n",
       "Dep_time_min        0.029903 -0.034239     0.036615 -0.000023  0.045445   \n",
       "Duration_hours      0.063044 -0.076989     0.113240  0.683791  0.390491   \n",
       "Duration_min       -0.007177 -0.078893    -0.045060  0.039989  0.077265   \n",
       "Arrival_time_hours  0.084133 -0.069235    -0.025018  0.103011  0.073045   \n",
       "Arrival_time_min    0.052620  0.017983    -0.068256 -0.011096 -0.016928   \n",
       "day                 0.104167  0.104426    -0.271009 -0.060707 -0.360991   \n",
       "month               0.015470 -0.354967     0.034060 -0.079346  0.178698   \n",
       "Number_of_days      0.104167  0.104426    -0.271009 -0.060707 -0.360991   \n",
       "Total_duration      0.062604 -0.080237     0.111062  0.684110  0.393024   \n",
       "\n",
       "                    Dep_time_hours  Dep_time_min  Duration_hours  \\\n",
       "Name                      0.002984      0.029903        0.063044   \n",
       "Source                    0.020732     -0.034239       -0.076989   \n",
       "Destination              -0.061705      0.036615        0.113240   \n",
       "Stops                    -0.068450     -0.000023        0.683791   \n",
       "Price                    -0.101846      0.045445        0.390491   \n",
       "Dep_time_hours            1.000000      0.011187        0.003661   \n",
       "Dep_time_min              0.011187      1.000000        0.003760   \n",
       "Duration_hours            0.003661      0.003760        1.000000   \n",
       "Duration_min             -0.021645     -0.041540        0.026085   \n",
       "Arrival_time_hours        0.072706     -0.061554        0.006110   \n",
       "Arrival_time_min         -0.023270     -0.022913        0.023424   \n",
       "day                      -0.003273      0.011813       -0.096733   \n",
       "month                     0.053439      0.056419       -0.100906   \n",
       "Number_of_days           -0.003273      0.011813       -0.096733   \n",
       "Total_duration            0.002719      0.001958        0.999068   \n",
       "\n",
       "                    Duration_min  Arrival_time_hours  Arrival_time_min  \\\n",
       "Name                   -0.007177            0.084133          0.052620   \n",
       "Source                 -0.078893           -0.069235          0.017983   \n",
       "Destination            -0.045060           -0.025018         -0.068256   \n",
       "Stops                   0.039989            0.103011         -0.011096   \n",
       "Price                   0.077265            0.073045         -0.016928   \n",
       "Dep_time_hours         -0.021645            0.072706         -0.023270   \n",
       "Dep_time_min           -0.041540           -0.061554         -0.022913   \n",
       "Duration_hours          0.026085            0.006110          0.023424   \n",
       "Duration_min            1.000000            0.025817          0.010820   \n",
       "Arrival_time_hours      0.025817            1.000000          0.003181   \n",
       "Arrival_time_min        0.010820            0.003181          1.000000   \n",
       "day                    -0.057034           -0.004045          0.021490   \n",
       "month                   0.015098            0.069432         -0.016881   \n",
       "Number_of_days         -0.057034           -0.004045          0.021490   \n",
       "Total_duration          0.069210            0.007212          0.023843   \n",
       "\n",
       "                         day     month  Number_of_days  Total_duration  \n",
       "Name                0.104167  0.015470        0.104167        0.062604  \n",
       "Source              0.104426 -0.354967        0.104426       -0.080237  \n",
       "Destination        -0.271009  0.034060       -0.271009        0.111062  \n",
       "Stops              -0.060707 -0.079346       -0.060707        0.684110  \n",
       "Price              -0.360991  0.178698       -0.360991        0.393024  \n",
       "Dep_time_hours     -0.003273  0.053439       -0.003273        0.002719  \n",
       "Dep_time_min        0.011813  0.056419        0.011813        0.001958  \n",
       "Duration_hours     -0.096733 -0.100906       -0.096733        0.999068  \n",
       "Duration_min       -0.057034  0.015098       -0.057034        0.069210  \n",
       "Arrival_time_hours -0.004045  0.069432       -0.004045        0.007212  \n",
       "Arrival_time_min    0.021490 -0.016881        0.021490        0.023843  \n",
       "day                 1.000000  0.061244        1.000000       -0.098997  \n",
       "month               0.061244  1.000000        0.061244       -0.100046  \n",
       "Number_of_days      1.000000  0.061244        1.000000       -0.098997  \n",
       "Total_duration     -0.098997 -0.100046       -0.098997        1.000000  "
      ]
     },
     "execution_count": 45,
     "metadata": {},
     "output_type": "execute_result"
    }
   ],
   "source": [
    "data.corr()"
   ]
  },
  {
   "cell_type": "code",
   "execution_count": 46,
   "metadata": {},
   "outputs": [
    {
     "data": {
      "image/png": "[encoded data removed]",
      "text/plain": [
       "<Figure size 2160x1440 with 2 Axes>"
      ]
     },
     "metadata": {
      "needs_background": "light"
     },
     "output_type": "display_data"
    }
   ],
   "source": [
    "## HeatMap\n",
    "df_corr= data.corr().abs()\n",
    "plt.figure(figsize=(30,20))\n",
    "sns.heatmap(df_corr, vmin=-1, vmax=1, annot=True, square=True, center=0, fmt='.2g', linewidth=.1)\n",
    "plt.tight_layout()"
   ]
  },
  {
   "cell_type": "code",
   "execution_count": 47,
   "metadata": {},
   "outputs": [
    {
     "data": {
      "text/plain": [
       "Price                 1.000000\n",
       "Stops                 0.522638\n",
       "Total_duration        0.393024\n",
       "Duration_hours        0.390491\n",
       "Destination           0.239752\n",
       "month                 0.178698\n",
       "Duration_min          0.077265\n",
       "Arrival_time_hours    0.073045\n",
       "Name                  0.049375\n",
       "Dep_time_min          0.045445\n",
       "Arrival_time_min     -0.016928\n",
       "Dep_time_hours       -0.101846\n",
       "Number_of_days       -0.360991\n",
       "day                  -0.360991\n",
       "Source               -0.498705\n",
       "Name: Price, dtype: float64"
      ]
     },
     "execution_count": 47,
     "metadata": {},
     "output_type": "execute_result"
    }
   ],
   "source": [
    "# Correlation with target variable\n",
    "corr_mat=data.corr()\n",
    "corr_mat[\"Price\"].sort_values(ascending=False)"
   ]
  },
  {
   "cell_type": "markdown",
   "metadata": {},
   "source": [
    "We observe multicollinearity between a few features. Also Price has maximum correlation with number of stops and miimum correlation with Arrival time in minutes."
   ]
  },
  {
   "cell_type": "markdown",
   "metadata": {},
   "source": [
    "### Check for outliers"
   ]
  },
  {
   "cell_type": "code",
   "execution_count": 48,
   "metadata": {},
   "outputs": [
    {
     "data": {
      "image/png": "[encoded data removed]",
      "text/plain": [
       "<Figure size 2880x5760 with 15 Axes>"
      ]
     },
     "metadata": {
      "needs_background": "light"
     },
     "output_type": "display_data"
    }
   ],
   "source": [
    "collist=data.columns.values\n",
    "plt.figure(figsize=(40,80))\n",
    "for i in range(0,len(collist)):\n",
    "    plt.subplot(15,20,i+1)\n",
    "    sns.boxplot(data[collist[i]],color='green',orient='v')\n",
    "    plt.tight_layout()"
   ]
  },
  {
   "cell_type": "markdown",
   "metadata": {},
   "source": [
    "We observe outliers in 'Price', 'Duration_hours' and 'Total_duration'"
   ]
  },
  {
   "cell_type": "code",
   "execution_count": 49,
   "metadata": {},
   "outputs": [
    {
     "data": {
      "image/png": "[encoded data removed]",
      "text/plain": [
       "<Figure size 1440x1080 with 15 Axes>"
      ]
     },
     "metadata": {},
     "output_type": "display_data"
    }
   ],
   "source": [
    "## checking for Normal Distribution of curve\n",
    "plt.figure(figsize=(20,15),facecolor='white')\n",
    "plotnumber=1\n",
    "\n",
    "for column in data:\n",
    "    if plotnumber<=15:\n",
    "        ax=plt.subplot(5,3,plotnumber)\n",
    "        sns.distplot(data[column])\n",
    "        plt.xlabel(column, fontsize=20)\n",
    "    plotnumber+=1\n",
    "plt.tight_layout()"
   ]
  },
  {
   "cell_type": "markdown",
   "metadata": {},
   "source": [
    "### Data Pre-Processing"
   ]
  },
  {
   "cell_type": "markdown",
   "metadata": {},
   "source": [
    "We observed correlation between duration time as they tell the same thing, also we had observed outliers in these columns hence we will drop them."
   ]
  },
  {
   "cell_type": "code",
   "execution_count": 50,
   "metadata": {},
   "outputs": [],
   "source": [
    "data.drop(columns=[\"Duration_hours\",\"Duration_min\"],inplace=True)"
   ]
  },
  {
   "cell_type": "code",
   "execution_count": 51,
   "metadata": {},
   "outputs": [
    {
     "data": {
      "text/plain": [
       "Name                  0.282664\n",
       "Source               -0.359224\n",
       "Destination          -0.735556\n",
       "Stops                 0.208783\n",
       "Price                 1.891843\n",
       "Dep_time_hours        0.049128\n",
       "Dep_time_min          0.049050\n",
       "Arrival_time_hours   -0.449847\n",
       "Arrival_time_min     -0.039518\n",
       "day                   0.070555\n",
       "month                -0.499099\n",
       "Number_of_days        0.070555\n",
       "Total_duration        1.357099\n",
       "dtype: float64"
      ]
     },
     "execution_count": 51,
     "metadata": {},
     "output_type": "execute_result"
    }
   ],
   "source": [
    "data.skew()"
   ]
  },
  {
   "cell_type": "code",
   "execution_count": 52,
   "metadata": {},
   "outputs": [
    {
     "data": {
      "text/plain": [
       "(1828, 13)"
      ]
     },
     "execution_count": 52,
     "metadata": {},
     "output_type": "execute_result"
    }
   ],
   "source": [
    "from scipy import stats\n",
    "z=np.abs(stats.zscore(data))\n",
    "index=(np.where(z>3)[0])\n",
    "df_new=data.drop(data.index[index])\n",
    "df_new.shape"
   ]
  },
  {
   "cell_type": "code",
   "execution_count": 53,
   "metadata": {},
   "outputs": [
    {
     "name": "stdout",
     "output_type": "stream",
     "text": [
      "Percentage of data loss =  2.506666666666667\n"
     ]
    }
   ],
   "source": [
    "print(\"Percentage of data loss = \",((1875-1828)/1875)*100)"
   ]
  },
  {
   "cell_type": "code",
   "execution_count": 54,
   "metadata": {},
   "outputs": [
    {
     "data": {
      "text/plain": [
       "Name                  0.280668\n",
       "Source               -0.395066\n",
       "Destination          -0.727022\n",
       "Stops                 0.010327\n",
       "Price                 1.088078\n",
       "Dep_time_hours        0.039587\n",
       "Dep_time_min          0.062718\n",
       "Arrival_time_hours   -0.441030\n",
       "Arrival_time_min     -0.030802\n",
       "day                   0.038246\n",
       "month                -0.469043\n",
       "Number_of_days        0.038246\n",
       "Total_duration        1.309348\n",
       "dtype: float64"
      ]
     },
     "execution_count": 54,
     "metadata": {},
     "output_type": "execute_result"
    }
   ],
   "source": [
    "df_new.skew()"
   ]
  },
  {
   "cell_type": "code",
   "execution_count": 55,
   "metadata": {},
   "outputs": [
    {
     "name": "stdout",
     "output_type": "stream",
     "text": [
      "-0.054303560899945556\n"
     ]
    }
   ],
   "source": [
    "df_new[\"Total_duration\"]=np.log(df_new[\"Total_duration\"])\n",
    "print(df_new.skew().loc[\"Total_duration\"])"
   ]
  },
  {
   "cell_type": "code",
   "execution_count": 56,
   "metadata": {},
   "outputs": [],
   "source": [
    "# Seperating feature and target variable\n",
    "x=df_new.drop(columns=[\"Price\"])\n",
    "y=df_new[\"Price\"]"
   ]
  },
  {
   "cell_type": "code",
   "execution_count": 57,
   "metadata": {},
   "outputs": [],
   "source": [
    "## Scaling data\n",
    "scale= StandardScaler()\n",
    "x_scaled=scale.fit_transform(x)"
   ]
  },
  {
   "cell_type": "markdown",
   "metadata": {},
   "source": [
    "## Model Building"
   ]
  },
  {
   "cell_type": "code",
   "execution_count": 58,
   "metadata": {},
   "outputs": [
    {
     "name": "stdout",
     "output_type": "stream",
     "text": [
      "At random state 52 ,the model performs well\n",
      "Training r2_score is:  58.532365266999285\n",
      "Testing r2_score is:  58.495003867753695\n",
      "At random state 54 ,the model performs well\n",
      "Training r2_score is:  58.5370270597652\n",
      "Testing r2_score is:  58.476926499476775\n",
      "At random state 81 ,the model performs well\n",
      "Training r2_score is:  58.501148001440754\n",
      "Testing r2_score is:  58.52425650963049\n"
     ]
    }
   ],
   "source": [
    "#Finding the best random state and r2_score\n",
    "for i in range(100):\n",
    "    x_train,x_test,y_train,y_test=train_test_split(x_scaled,y,test_size=.20,random_state=i)\n",
    "    lr=LinearRegression()\n",
    "    lr.fit(x_train,y_train)\n",
    "    pred_train=lr.predict(x_train)\n",
    "    pred_test=lr.predict(x_test)\n",
    "    if round(r2_score(y_train,pred_train)*100,1)==round(r2_score(y_test,pred_test)*100,1):\n",
    "        print('At random state',i,',the model performs well')\n",
    "        print('Training r2_score is: ',r2_score(y_train,pred_train)*100)\n",
    "        print('Testing r2_score is: ',r2_score(y_test,pred_test)*100)"
   ]
  },
  {
   "cell_type": "code",
   "execution_count": 59,
   "metadata": {},
   "outputs": [],
   "source": [
    "x_train,x_test,y_train,y_test=train_test_split(x_scaled,y,test_size=.20,random_state=81)"
   ]
  },
  {
   "cell_type": "code",
   "execution_count": 60,
   "metadata": {},
   "outputs": [],
   "source": [
    "#Initializing the instance of the model\n",
    "lm= LinearRegression()\n",
    "knn= KNeighborsRegressor()\n",
    "dt= DecisionTreeRegressor()\n",
    "rmf= RandomForestRegressor()\n",
    "gb= GradientBoostingRegressor()\n",
    "\n",
    "models=[]\n",
    "models.append(('LinearRegression',lr))\n",
    "models.append(('KNeighborsRegressor',knn))\n",
    "models.append(('DecisionTreeRegressor',dt))\n",
    "models.append(('RandomForestRegressor',rmf))\n",
    "models.append(('GradientBoostingRegressor',gb))"
   ]
  },
  {
   "cell_type": "code",
   "execution_count": 61,
   "metadata": {},
   "outputs": [
    {
     "name": "stdout",
     "output_type": "stream",
     "text": [
      "**** LinearRegression ****\n",
      "\n",
      "\n",
      "accuracy_score:  0.5852425650963049\n",
      "\n",
      "\n",
      "cross_val_score:  0.5727340366915723\n",
      "\n",
      "\n",
      "mean_squared_error  2423438.683034735\n",
      "\n",
      "\n",
      "\n",
      "**** KNeighborsRegressor ****\n",
      "\n",
      "\n",
      "accuracy_score:  0.7460475895421008\n",
      "\n",
      "\n",
      "cross_val_score:  0.7698852848280546\n",
      "\n",
      "\n",
      "mean_squared_error  1483850.6639344261\n",
      "\n",
      "\n",
      "\n",
      "**** DecisionTreeRegressor ****\n",
      "\n",
      "\n",
      "accuracy_score:  0.7599649123898086\n",
      "\n",
      "\n",
      "cross_val_score:  0.8201500680455596\n",
      "\n",
      "\n",
      "mean_squared_error  1402531.3777322404\n",
      "\n",
      "\n",
      "\n",
      "**** RandomForestRegressor ****\n",
      "\n",
      "\n",
      "accuracy_score:  0.8606367626369499\n",
      "\n",
      "\n",
      "cross_val_score:  0.8886455523278205\n",
      "\n",
      "\n",
      "mean_squared_error  814303.0889777505\n",
      "\n",
      "\n",
      "\n",
      "**** GradientBoostingRegressor ****\n",
      "\n",
      "\n",
      "accuracy_score:  0.8261236774436168\n",
      "\n",
      "\n",
      "cross_val_score:  0.8435510487665692\n",
      "\n",
      "\n",
      "mean_squared_error  1015963.9603442102\n",
      "\n",
      "\n",
      "\n"
     ]
    }
   ],
   "source": [
    "Model=[]\n",
    "r2score=[]\n",
    "mse=[]\n",
    "cvs=[]\n",
    "for name,model in models:\n",
    "    print(\"****\",name,\"****\")\n",
    "    Model.append(name)\n",
    "    model.fit(x_train,y_train)\n",
    "    y_pred=model.predict(x_test)\n",
    "    print('\\n')\n",
    "    AS=model.score(x_test,y_test)\n",
    "    print('accuracy_score: ',AS)\n",
    "    r2score.append(AS*100)\n",
    "    print('\\n')\n",
    "    sc=cross_val_score(model,x_train,y_train,cv=5).mean()\n",
    "    print('cross_val_score: ',sc)\n",
    "    cvs.append(sc*100)\n",
    "    print('\\n')\n",
    "    mse.append(mean_squared_error(y_test,y_pred))\n",
    "    print('mean_squared_error ',mean_squared_error(y_test,y_pred))\n",
    "    print('\\n\\n')"
   ]
  },
  {
   "cell_type": "code",
   "execution_count": 62,
   "metadata": {},
   "outputs": [
    {
     "data": {
      "text/html": [
       "<div>\n",
       "<style scoped>\n",
       "    .dataframe tbody tr th:only-of-type {\n",
       "        vertical-align: middle;\n",
       "    }\n",
       "\n",
       "    .dataframe tbody tr th {\n",
       "        vertical-align: top;\n",
       "    }\n",
       "\n",
       "    .dataframe thead th {\n",
       "        text-align: right;\n",
       "    }\n",
       "</style>\n",
       "<table border=\"1\" class=\"dataframe\">\n",
       "  <thead>\n",
       "    <tr style=\"text-align: right;\">\n",
       "      <th></th>\n",
       "      <th>Model</th>\n",
       "      <th>Accuracy_score</th>\n",
       "      <th>Cross_val_score</th>\n",
       "      <th>Mean_Squared_Error</th>\n",
       "    </tr>\n",
       "  </thead>\n",
       "  <tbody>\n",
       "    <tr>\n",
       "      <th>0</th>\n",
       "      <td>LinearRegression</td>\n",
       "      <td>58.524257</td>\n",
       "      <td>57.273404</td>\n",
       "      <td>2.423439e+06</td>\n",
       "    </tr>\n",
       "    <tr>\n",
       "      <th>1</th>\n",
       "      <td>KNeighborsRegressor</td>\n",
       "      <td>74.604759</td>\n",
       "      <td>76.988528</td>\n",
       "      <td>1.483851e+06</td>\n",
       "    </tr>\n",
       "    <tr>\n",
       "      <th>2</th>\n",
       "      <td>DecisionTreeRegressor</td>\n",
       "      <td>75.996491</td>\n",
       "      <td>82.015007</td>\n",
       "      <td>1.402531e+06</td>\n",
       "    </tr>\n",
       "    <tr>\n",
       "      <th>3</th>\n",
       "      <td>RandomForestRegressor</td>\n",
       "      <td>86.063676</td>\n",
       "      <td>88.864555</td>\n",
       "      <td>8.143031e+05</td>\n",
       "    </tr>\n",
       "    <tr>\n",
       "      <th>4</th>\n",
       "      <td>GradientBoostingRegressor</td>\n",
       "      <td>82.612368</td>\n",
       "      <td>84.355105</td>\n",
       "      <td>1.015964e+06</td>\n",
       "    </tr>\n",
       "  </tbody>\n",
       "</table>\n",
       "</div>"
      ],
      "text/plain": [
       "                       Model  Accuracy_score  Cross_val_score  \\\n",
       "0           LinearRegression       58.524257        57.273404   \n",
       "1        KNeighborsRegressor       74.604759        76.988528   \n",
       "2      DecisionTreeRegressor       75.996491        82.015007   \n",
       "3      RandomForestRegressor       86.063676        88.864555   \n",
       "4  GradientBoostingRegressor       82.612368        84.355105   \n",
       "\n",
       "   Mean_Squared_Error  \n",
       "0        2.423439e+06  \n",
       "1        1.483851e+06  \n",
       "2        1.402531e+06  \n",
       "3        8.143031e+05  \n",
       "4        1.015964e+06  "
      ]
     },
     "execution_count": 62,
     "metadata": {},
     "output_type": "execute_result"
    }
   ],
   "source": [
    "df=pd.DataFrame({'Model':Model, 'Accuracy_score': r2score,'Cross_val_score':cvs,'Mean_Squared_Error':mse})\n",
    "df"
   ]
  },
  {
   "cell_type": "markdown",
   "metadata": {},
   "source": [
    "By looking at various metrics, Random Forest Regressor is considered to be the best model. We will now use GridSearchCV to tune model for better results."
   ]
  },
  {
   "cell_type": "markdown",
   "metadata": {},
   "source": [
    "### Hyper-Parametric Tuning"
   ]
  },
  {
   "cell_type": "code",
   "execution_count": 63,
   "metadata": {},
   "outputs": [
    {
     "name": "stdout",
     "output_type": "stream",
     "text": [
      "best params=> {'criterion': 'mse', 'max_depth': 10, 'max_features': 'auto', 'min_samples_leaf': 2, 'min_samples_split': 4, 'n_estimators': 50}\n"
     ]
    }
   ],
   "source": [
    "rmf= RandomForestRegressor()\n",
    "params={'max_features':['auto','sqrt'],'n_estimators':[50,80], 'criterion':['mse','mae'],\n",
    "       'max_depth':[5,10], 'min_samples_split':[4,6],\n",
    "       'min_samples_leaf':[2,3]}\n",
    "grd=GridSearchCV(rmf,param_grid=params)\n",
    "grd.fit(x_train,y_train)\n",
    "print('best params=>',grd.best_params_)"
   ]
  },
  {
   "cell_type": "code",
   "execution_count": 64,
   "metadata": {},
   "outputs": [
    {
     "name": "stdout",
     "output_type": "stream",
     "text": [
      "Random Forest Regression: Accuracy =  0.8453601476367489\n",
      "\n",
      " Mean Squared Error=  903564.7552476081\n",
      "\n",
      " Root Mean Squared Error=  950.5602323091409\n",
      "\n",
      " Mean Absolute Error=  547.8271263504754\n"
     ]
    }
   ],
   "source": [
    "rmf= RandomForestRegressor(criterion= 'mse', max_depth= 10, max_features= 'auto', min_samples_leaf= 2, \n",
    "                           min_samples_split= 4, n_estimators= 50)\n",
    "rmf.fit(x_train,y_train)\n",
    "y_pred=rmf.predict(x_test)\n",
    "print(\"Random Forest Regression: Accuracy = \",rmf.score(x_test,y_test))\n",
    "print(\"\\n Mean Squared Error= \",mean_squared_error(y_test,y_pred))\n",
    "print(\"\\n Root Mean Squared Error= \",np.sqrt(mean_squared_error(y_test,y_pred)))\n",
    "print(\"\\n Mean Absolute Error= \",mean_absolute_error(y_test,y_pred))"
   ]
  },
  {
   "cell_type": "code",
   "execution_count": 65,
   "metadata": {},
   "outputs": [
    {
     "data": {
      "text/html": [
       "<div>\n",
       "<style scoped>\n",
       "    .dataframe tbody tr th:only-of-type {\n",
       "        vertical-align: middle;\n",
       "    }\n",
       "\n",
       "    .dataframe tbody tr th {\n",
       "        vertical-align: top;\n",
       "    }\n",
       "\n",
       "    .dataframe thead th {\n",
       "        text-align: right;\n",
       "    }\n",
       "</style>\n",
       "<table border=\"1\" class=\"dataframe\">\n",
       "  <thead>\n",
       "    <tr style=\"text-align: right;\">\n",
       "      <th></th>\n",
       "      <th>Original_price</th>\n",
       "      <th>Predicted_price</th>\n",
       "    </tr>\n",
       "  </thead>\n",
       "  <tbody>\n",
       "    <tr>\n",
       "      <th>196</th>\n",
       "      <td>2126</td>\n",
       "      <td>2204.848000</td>\n",
       "    </tr>\n",
       "    <tr>\n",
       "      <th>1250</th>\n",
       "      <td>7487</td>\n",
       "      <td>7527.094500</td>\n",
       "    </tr>\n",
       "    <tr>\n",
       "      <th>1117</th>\n",
       "      <td>3513</td>\n",
       "      <td>2955.645642</td>\n",
       "    </tr>\n",
       "    <tr>\n",
       "      <th>1201</th>\n",
       "      <td>5941</td>\n",
       "      <td>5456.679404</td>\n",
       "    </tr>\n",
       "    <tr>\n",
       "      <th>1452</th>\n",
       "      <td>7489</td>\n",
       "      <td>7476.393333</td>\n",
       "    </tr>\n",
       "    <tr>\n",
       "      <th>...</th>\n",
       "      <td>...</td>\n",
       "      <td>...</td>\n",
       "    </tr>\n",
       "    <tr>\n",
       "      <th>205</th>\n",
       "      <td>4002</td>\n",
       "      <td>5024.182102</td>\n",
       "    </tr>\n",
       "    <tr>\n",
       "      <th>1163</th>\n",
       "      <td>4754</td>\n",
       "      <td>5470.688316</td>\n",
       "    </tr>\n",
       "    <tr>\n",
       "      <th>455</th>\n",
       "      <td>6367</td>\n",
       "      <td>6126.394908</td>\n",
       "    </tr>\n",
       "    <tr>\n",
       "      <th>1611</th>\n",
       "      <td>4429</td>\n",
       "      <td>7027.430524</td>\n",
       "    </tr>\n",
       "    <tr>\n",
       "      <th>1763</th>\n",
       "      <td>5555</td>\n",
       "      <td>4919.413194</td>\n",
       "    </tr>\n",
       "  </tbody>\n",
       "</table>\n",
       "<p>366 rows × 2 columns</p>\n",
       "</div>"
      ],
      "text/plain": [
       "      Original_price  Predicted_price\n",
       "196             2126      2204.848000\n",
       "1250            7487      7527.094500\n",
       "1117            3513      2955.645642\n",
       "1201            5941      5456.679404\n",
       "1452            7489      7476.393333\n",
       "...              ...              ...\n",
       "205             4002      5024.182102\n",
       "1163            4754      5470.688316\n",
       "455             6367      6126.394908\n",
       "1611            4429      7027.430524\n",
       "1763            5555      4919.413194\n",
       "\n",
       "[366 rows x 2 columns]"
      ]
     },
     "execution_count": 65,
     "metadata": {},
     "output_type": "execute_result"
    }
   ],
   "source": [
    "#Comparing actual and predicted values with the help of a dataframe\n",
    "predictions=pd.DataFrame({'Original_price':y_test, 'Predicted_price':y_pred})\n",
    "predictions"
   ]
  },
  {
   "cell_type": "code",
   "execution_count": 66,
   "metadata": {},
   "outputs": [],
   "source": [
    "## savig model\n",
    "filename= \"flightPrice_prediction.pickle\"\n",
    "pickle.dump(rmf, open(filename, 'wb'))"
   ]
  },
  {
   "cell_type": "markdown",
   "metadata": {},
   "source": [
    "------"
   ]
  }
 ],
 "metadata": {
  "kernelspec": {
   "display_name": "Python 3",
   "language": "python",
   "name": "python3"
  },
  "language_info": {
   "codemirror_mode": {
    "name": "ipython",
    "version": 3
   },
   "file_extension": ".py",
   "mimetype": "text/x-python",
   "name": "python",
   "nbconvert_exporter": "python",
   "pygments_lexer": "ipython3",
   "version": "3.8.8"
  }
 },
 "nbformat": 4,
 "nbformat_minor": 2
}
